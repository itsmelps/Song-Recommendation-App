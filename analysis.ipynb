{
 "cells": [
  {
   "cell_type": "code",
   "execution_count": 3,
   "metadata": {},
   "outputs": [],
   "source": [
    "import numpy as np\n",
    "import pandas as pd\n",
    "\n",
    "#For data visualisation\n",
    "import matplotlib.pyplot as plt\n",
    "import seaborn as sns\n",
    "\n",
    "import warnings"
   ]
  },
  {
   "cell_type": "markdown",
   "metadata": {},
   "source": [
    "# **GOAL**\n",
    "\n",
    "The dataset we are going to be working with is the spotify songs dataset which has songs from 1960s to 2019.\n",
    "We aim to do the following with the dataset : \n",
    "\n",
    "* Give song recommendations to the user based on a song of their choice using various song features in the dataset\n",
    "* Give a genre prediction to the user based on their input based on trend analysis"
   ]
  },
  {
   "cell_type": "markdown",
   "metadata": {},
   "source": [
    "The application hosted makes the process more natural. There are more features that are implemented in the application than in this file since those features require user interaction.\n",
    "\n",
    "**TASKS covered in the application** :\n",
    "* Song recommendation (Using the nearest neighbours model)\n",
    "* Genre based recommendation\n",
    "* Trend Analysis to determine the changing popularity of songs over the years\n",
    "* Genre prediction (Using Random Forest)"
   ]
  },
  {
   "cell_type": "markdown",
   "metadata": {},
   "source": [
    "What **PURPOSE** does this serve:\n",
    "\n",
    "* Song recommendation based on a fav song or genre is a feature that is generally sought after.\n",
    "* Trend analysis is key for budding artists who are trying to make it mainstream. The analysis of changing trend is a good predictor of popularity and knowing how to tune various musical elements can help with artist popularity "
   ]
  },
  {
   "cell_type": "markdown",
   "metadata": {},
   "source": [
    "#### **DATA LOADING** \n",
    "***"
   ]
  },
  {
   "cell_type": "code",
   "execution_count": 4,
   "metadata": {},
   "outputs": [],
   "source": [
    "df = pd.read_csv(\"https://raw.githubusercontent.com/rfordatascience/tidytuesday/master/data/2020/2020-01-21/spotify_songs.csv\")"
   ]
  },
  {
   "cell_type": "code",
   "execution_count": 5,
   "metadata": {},
   "outputs": [
    {
     "data": {
      "text/html": [
       "<div>\n",
       "<style scoped>\n",
       "    .dataframe tbody tr th:only-of-type {\n",
       "        vertical-align: middle;\n",
       "    }\n",
       "\n",
       "    .dataframe tbody tr th {\n",
       "        vertical-align: top;\n",
       "    }\n",
       "\n",
       "    .dataframe thead th {\n",
       "        text-align: right;\n",
       "    }\n",
       "</style>\n",
       "<table border=\"1\" class=\"dataframe\">\n",
       "  <thead>\n",
       "    <tr style=\"text-align: right;\">\n",
       "      <th></th>\n",
       "      <th>track_id</th>\n",
       "      <th>track_name</th>\n",
       "      <th>track_artist</th>\n",
       "      <th>track_popularity</th>\n",
       "      <th>track_album_id</th>\n",
       "      <th>track_album_name</th>\n",
       "      <th>track_album_release_date</th>\n",
       "      <th>playlist_name</th>\n",
       "      <th>playlist_id</th>\n",
       "      <th>playlist_genre</th>\n",
       "      <th>...</th>\n",
       "      <th>key</th>\n",
       "      <th>loudness</th>\n",
       "      <th>mode</th>\n",
       "      <th>speechiness</th>\n",
       "      <th>acousticness</th>\n",
       "      <th>instrumentalness</th>\n",
       "      <th>liveness</th>\n",
       "      <th>valence</th>\n",
       "      <th>tempo</th>\n",
       "      <th>duration_ms</th>\n",
       "    </tr>\n",
       "  </thead>\n",
       "  <tbody>\n",
       "    <tr>\n",
       "      <th>0</th>\n",
       "      <td>6f807x0ima9a1j3VPbc7VN</td>\n",
       "      <td>I Don't Care (with Justin Bieber) - Loud Luxur...</td>\n",
       "      <td>Ed Sheeran</td>\n",
       "      <td>66</td>\n",
       "      <td>2oCs0DGTsRO98Gh5ZSl2Cx</td>\n",
       "      <td>I Don't Care (with Justin Bieber) [Loud Luxury...</td>\n",
       "      <td>2019-06-14</td>\n",
       "      <td>Pop Remix</td>\n",
       "      <td>37i9dQZF1DXcZDD7cfEKhW</td>\n",
       "      <td>pop</td>\n",
       "      <td>...</td>\n",
       "      <td>6</td>\n",
       "      <td>-2.634</td>\n",
       "      <td>1</td>\n",
       "      <td>0.0583</td>\n",
       "      <td>0.1020</td>\n",
       "      <td>0.000000</td>\n",
       "      <td>0.0653</td>\n",
       "      <td>0.518</td>\n",
       "      <td>122.036</td>\n",
       "      <td>194754</td>\n",
       "    </tr>\n",
       "    <tr>\n",
       "      <th>1</th>\n",
       "      <td>0r7CVbZTWZgbTCYdfa2P31</td>\n",
       "      <td>Memories - Dillon Francis Remix</td>\n",
       "      <td>Maroon 5</td>\n",
       "      <td>67</td>\n",
       "      <td>63rPSO264uRjW1X5E6cWv6</td>\n",
       "      <td>Memories (Dillon Francis Remix)</td>\n",
       "      <td>2019-12-13</td>\n",
       "      <td>Pop Remix</td>\n",
       "      <td>37i9dQZF1DXcZDD7cfEKhW</td>\n",
       "      <td>pop</td>\n",
       "      <td>...</td>\n",
       "      <td>11</td>\n",
       "      <td>-4.969</td>\n",
       "      <td>1</td>\n",
       "      <td>0.0373</td>\n",
       "      <td>0.0724</td>\n",
       "      <td>0.004210</td>\n",
       "      <td>0.3570</td>\n",
       "      <td>0.693</td>\n",
       "      <td>99.972</td>\n",
       "      <td>162600</td>\n",
       "    </tr>\n",
       "    <tr>\n",
       "      <th>2</th>\n",
       "      <td>1z1Hg7Vb0AhHDiEmnDE79l</td>\n",
       "      <td>All the Time - Don Diablo Remix</td>\n",
       "      <td>Zara Larsson</td>\n",
       "      <td>70</td>\n",
       "      <td>1HoSmj2eLcsrR0vE9gThr4</td>\n",
       "      <td>All the Time (Don Diablo Remix)</td>\n",
       "      <td>2019-07-05</td>\n",
       "      <td>Pop Remix</td>\n",
       "      <td>37i9dQZF1DXcZDD7cfEKhW</td>\n",
       "      <td>pop</td>\n",
       "      <td>...</td>\n",
       "      <td>1</td>\n",
       "      <td>-3.432</td>\n",
       "      <td>0</td>\n",
       "      <td>0.0742</td>\n",
       "      <td>0.0794</td>\n",
       "      <td>0.000023</td>\n",
       "      <td>0.1100</td>\n",
       "      <td>0.613</td>\n",
       "      <td>124.008</td>\n",
       "      <td>176616</td>\n",
       "    </tr>\n",
       "    <tr>\n",
       "      <th>3</th>\n",
       "      <td>75FpbthrwQmzHlBJLuGdC7</td>\n",
       "      <td>Call You Mine - Keanu Silva Remix</td>\n",
       "      <td>The Chainsmokers</td>\n",
       "      <td>60</td>\n",
       "      <td>1nqYsOef1yKKuGOVchbsk6</td>\n",
       "      <td>Call You Mine - The Remixes</td>\n",
       "      <td>2019-07-19</td>\n",
       "      <td>Pop Remix</td>\n",
       "      <td>37i9dQZF1DXcZDD7cfEKhW</td>\n",
       "      <td>pop</td>\n",
       "      <td>...</td>\n",
       "      <td>7</td>\n",
       "      <td>-3.778</td>\n",
       "      <td>1</td>\n",
       "      <td>0.1020</td>\n",
       "      <td>0.0287</td>\n",
       "      <td>0.000009</td>\n",
       "      <td>0.2040</td>\n",
       "      <td>0.277</td>\n",
       "      <td>121.956</td>\n",
       "      <td>169093</td>\n",
       "    </tr>\n",
       "    <tr>\n",
       "      <th>4</th>\n",
       "      <td>1e8PAfcKUYoKkxPhrHqw4x</td>\n",
       "      <td>Someone You Loved - Future Humans Remix</td>\n",
       "      <td>Lewis Capaldi</td>\n",
       "      <td>69</td>\n",
       "      <td>7m7vv9wlQ4i0LFuJiE2zsQ</td>\n",
       "      <td>Someone You Loved (Future Humans Remix)</td>\n",
       "      <td>2019-03-05</td>\n",
       "      <td>Pop Remix</td>\n",
       "      <td>37i9dQZF1DXcZDD7cfEKhW</td>\n",
       "      <td>pop</td>\n",
       "      <td>...</td>\n",
       "      <td>1</td>\n",
       "      <td>-4.672</td>\n",
       "      <td>1</td>\n",
       "      <td>0.0359</td>\n",
       "      <td>0.0803</td>\n",
       "      <td>0.000000</td>\n",
       "      <td>0.0833</td>\n",
       "      <td>0.725</td>\n",
       "      <td>123.976</td>\n",
       "      <td>189052</td>\n",
       "    </tr>\n",
       "  </tbody>\n",
       "</table>\n",
       "<p>5 rows × 23 columns</p>\n",
       "</div>"
      ],
      "text/plain": [
       "                 track_id                                         track_name  \\\n",
       "0  6f807x0ima9a1j3VPbc7VN  I Don't Care (with Justin Bieber) - Loud Luxur...   \n",
       "1  0r7CVbZTWZgbTCYdfa2P31                    Memories - Dillon Francis Remix   \n",
       "2  1z1Hg7Vb0AhHDiEmnDE79l                    All the Time - Don Diablo Remix   \n",
       "3  75FpbthrwQmzHlBJLuGdC7                  Call You Mine - Keanu Silva Remix   \n",
       "4  1e8PAfcKUYoKkxPhrHqw4x            Someone You Loved - Future Humans Remix   \n",
       "\n",
       "       track_artist  track_popularity          track_album_id  \\\n",
       "0        Ed Sheeran                66  2oCs0DGTsRO98Gh5ZSl2Cx   \n",
       "1          Maroon 5                67  63rPSO264uRjW1X5E6cWv6   \n",
       "2      Zara Larsson                70  1HoSmj2eLcsrR0vE9gThr4   \n",
       "3  The Chainsmokers                60  1nqYsOef1yKKuGOVchbsk6   \n",
       "4     Lewis Capaldi                69  7m7vv9wlQ4i0LFuJiE2zsQ   \n",
       "\n",
       "                                    track_album_name track_album_release_date  \\\n",
       "0  I Don't Care (with Justin Bieber) [Loud Luxury...               2019-06-14   \n",
       "1                    Memories (Dillon Francis Remix)               2019-12-13   \n",
       "2                    All the Time (Don Diablo Remix)               2019-07-05   \n",
       "3                        Call You Mine - The Remixes               2019-07-19   \n",
       "4            Someone You Loved (Future Humans Remix)               2019-03-05   \n",
       "\n",
       "  playlist_name             playlist_id playlist_genre  ... key  loudness  \\\n",
       "0     Pop Remix  37i9dQZF1DXcZDD7cfEKhW            pop  ...   6    -2.634   \n",
       "1     Pop Remix  37i9dQZF1DXcZDD7cfEKhW            pop  ...  11    -4.969   \n",
       "2     Pop Remix  37i9dQZF1DXcZDD7cfEKhW            pop  ...   1    -3.432   \n",
       "3     Pop Remix  37i9dQZF1DXcZDD7cfEKhW            pop  ...   7    -3.778   \n",
       "4     Pop Remix  37i9dQZF1DXcZDD7cfEKhW            pop  ...   1    -4.672   \n",
       "\n",
       "   mode  speechiness  acousticness  instrumentalness  liveness  valence  \\\n",
       "0     1       0.0583        0.1020          0.000000    0.0653    0.518   \n",
       "1     1       0.0373        0.0724          0.004210    0.3570    0.693   \n",
       "2     0       0.0742        0.0794          0.000023    0.1100    0.613   \n",
       "3     1       0.1020        0.0287          0.000009    0.2040    0.277   \n",
       "4     1       0.0359        0.0803          0.000000    0.0833    0.725   \n",
       "\n",
       "     tempo  duration_ms  \n",
       "0  122.036       194754  \n",
       "1   99.972       162600  \n",
       "2  124.008       176616  \n",
       "3  121.956       169093  \n",
       "4  123.976       189052  \n",
       "\n",
       "[5 rows x 23 columns]"
      ]
     },
     "execution_count": 5,
     "metadata": {},
     "output_type": "execute_result"
    }
   ],
   "source": [
    "df.head()"
   ]
  },
  {
   "cell_type": "code",
   "execution_count": 6,
   "metadata": {},
   "outputs": [
    {
     "data": {
      "text/plain": [
       "(32833, 23)"
      ]
     },
     "execution_count": 6,
     "metadata": {},
     "output_type": "execute_result"
    }
   ],
   "source": [
    "df.shape"
   ]
  },
  {
   "cell_type": "code",
   "execution_count": 7,
   "metadata": {},
   "outputs": [
    {
     "data": {
      "text/plain": [
       "Index(['track_id', 'track_name', 'track_artist', 'track_popularity',\n",
       "       'track_album_id', 'track_album_name', 'track_album_release_date',\n",
       "       'playlist_name', 'playlist_id', 'playlist_genre', 'playlist_subgenre',\n",
       "       'danceability', 'energy', 'key', 'loudness', 'mode', 'speechiness',\n",
       "       'acousticness', 'instrumentalness', 'liveness', 'valence', 'tempo',\n",
       "       'duration_ms'],\n",
       "      dtype='object')"
      ]
     },
     "execution_count": 7,
     "metadata": {},
     "output_type": "execute_result"
    }
   ],
   "source": [
    "df.columns"
   ]
  },
  {
   "cell_type": "code",
   "execution_count": 8,
   "metadata": {},
   "outputs": [
    {
     "name": "stdout",
     "output_type": "stream",
     "text": [
      "<class 'pandas.core.frame.DataFrame'>\n",
      "RangeIndex: 32833 entries, 0 to 32832\n",
      "Data columns (total 23 columns):\n",
      " #   Column                    Non-Null Count  Dtype  \n",
      "---  ------                    --------------  -----  \n",
      " 0   track_id                  32833 non-null  object \n",
      " 1   track_name                32828 non-null  object \n",
      " 2   track_artist              32828 non-null  object \n",
      " 3   track_popularity          32833 non-null  int64  \n",
      " 4   track_album_id            32833 non-null  object \n",
      " 5   track_album_name          32828 non-null  object \n",
      " 6   track_album_release_date  32833 non-null  object \n",
      " 7   playlist_name             32833 non-null  object \n",
      " 8   playlist_id               32833 non-null  object \n",
      " 9   playlist_genre            32833 non-null  object \n",
      " 10  playlist_subgenre         32833 non-null  object \n",
      " 11  danceability              32833 non-null  float64\n",
      " 12  energy                    32833 non-null  float64\n",
      " 13  key                       32833 non-null  int64  \n",
      " 14  loudness                  32833 non-null  float64\n",
      " 15  mode                      32833 non-null  int64  \n",
      " 16  speechiness               32833 non-null  float64\n",
      " 17  acousticness              32833 non-null  float64\n",
      " 18  instrumentalness          32833 non-null  float64\n",
      " 19  liveness                  32833 non-null  float64\n",
      " 20  valence                   32833 non-null  float64\n",
      " 21  tempo                     32833 non-null  float64\n",
      " 22  duration_ms               32833 non-null  int64  \n",
      "dtypes: float64(9), int64(4), object(10)\n",
      "memory usage: 5.8+ MB\n"
     ]
    }
   ],
   "source": [
    "df.info()"
   ]
  },
  {
   "cell_type": "code",
   "execution_count": 9,
   "metadata": {},
   "outputs": [
    {
     "data": {
      "text/html": [
       "<div>\n",
       "<style scoped>\n",
       "    .dataframe tbody tr th:only-of-type {\n",
       "        vertical-align: middle;\n",
       "    }\n",
       "\n",
       "    .dataframe tbody tr th {\n",
       "        vertical-align: top;\n",
       "    }\n",
       "\n",
       "    .dataframe thead th {\n",
       "        text-align: right;\n",
       "    }\n",
       "</style>\n",
       "<table border=\"1\" class=\"dataframe\">\n",
       "  <thead>\n",
       "    <tr style=\"text-align: right;\">\n",
       "      <th></th>\n",
       "      <th>track_popularity</th>\n",
       "      <th>danceability</th>\n",
       "      <th>energy</th>\n",
       "      <th>key</th>\n",
       "      <th>loudness</th>\n",
       "      <th>mode</th>\n",
       "      <th>speechiness</th>\n",
       "      <th>acousticness</th>\n",
       "      <th>instrumentalness</th>\n",
       "      <th>liveness</th>\n",
       "      <th>valence</th>\n",
       "      <th>tempo</th>\n",
       "      <th>duration_ms</th>\n",
       "    </tr>\n",
       "  </thead>\n",
       "  <tbody>\n",
       "    <tr>\n",
       "      <th>count</th>\n",
       "      <td>32833.000000</td>\n",
       "      <td>32833.000000</td>\n",
       "      <td>32833.000000</td>\n",
       "      <td>32833.000000</td>\n",
       "      <td>32833.000000</td>\n",
       "      <td>32833.000000</td>\n",
       "      <td>32833.000000</td>\n",
       "      <td>32833.000000</td>\n",
       "      <td>32833.000000</td>\n",
       "      <td>32833.000000</td>\n",
       "      <td>32833.000000</td>\n",
       "      <td>32833.000000</td>\n",
       "      <td>32833.000000</td>\n",
       "    </tr>\n",
       "    <tr>\n",
       "      <th>mean</th>\n",
       "      <td>42.477081</td>\n",
       "      <td>0.654850</td>\n",
       "      <td>0.698619</td>\n",
       "      <td>5.374471</td>\n",
       "      <td>-6.719499</td>\n",
       "      <td>0.565711</td>\n",
       "      <td>0.107068</td>\n",
       "      <td>0.175334</td>\n",
       "      <td>0.084747</td>\n",
       "      <td>0.190176</td>\n",
       "      <td>0.510561</td>\n",
       "      <td>120.881132</td>\n",
       "      <td>225799.811622</td>\n",
       "    </tr>\n",
       "    <tr>\n",
       "      <th>std</th>\n",
       "      <td>24.984074</td>\n",
       "      <td>0.145085</td>\n",
       "      <td>0.180910</td>\n",
       "      <td>3.611657</td>\n",
       "      <td>2.988436</td>\n",
       "      <td>0.495671</td>\n",
       "      <td>0.101314</td>\n",
       "      <td>0.219633</td>\n",
       "      <td>0.224230</td>\n",
       "      <td>0.154317</td>\n",
       "      <td>0.233146</td>\n",
       "      <td>26.903624</td>\n",
       "      <td>59834.006182</td>\n",
       "    </tr>\n",
       "    <tr>\n",
       "      <th>min</th>\n",
       "      <td>0.000000</td>\n",
       "      <td>0.000000</td>\n",
       "      <td>0.000175</td>\n",
       "      <td>0.000000</td>\n",
       "      <td>-46.448000</td>\n",
       "      <td>0.000000</td>\n",
       "      <td>0.000000</td>\n",
       "      <td>0.000000</td>\n",
       "      <td>0.000000</td>\n",
       "      <td>0.000000</td>\n",
       "      <td>0.000000</td>\n",
       "      <td>0.000000</td>\n",
       "      <td>4000.000000</td>\n",
       "    </tr>\n",
       "    <tr>\n",
       "      <th>25%</th>\n",
       "      <td>24.000000</td>\n",
       "      <td>0.563000</td>\n",
       "      <td>0.581000</td>\n",
       "      <td>2.000000</td>\n",
       "      <td>-8.171000</td>\n",
       "      <td>0.000000</td>\n",
       "      <td>0.041000</td>\n",
       "      <td>0.015100</td>\n",
       "      <td>0.000000</td>\n",
       "      <td>0.092700</td>\n",
       "      <td>0.331000</td>\n",
       "      <td>99.960000</td>\n",
       "      <td>187819.000000</td>\n",
       "    </tr>\n",
       "    <tr>\n",
       "      <th>50%</th>\n",
       "      <td>45.000000</td>\n",
       "      <td>0.672000</td>\n",
       "      <td>0.721000</td>\n",
       "      <td>6.000000</td>\n",
       "      <td>-6.166000</td>\n",
       "      <td>1.000000</td>\n",
       "      <td>0.062500</td>\n",
       "      <td>0.080400</td>\n",
       "      <td>0.000016</td>\n",
       "      <td>0.127000</td>\n",
       "      <td>0.512000</td>\n",
       "      <td>121.984000</td>\n",
       "      <td>216000.000000</td>\n",
       "    </tr>\n",
       "    <tr>\n",
       "      <th>75%</th>\n",
       "      <td>62.000000</td>\n",
       "      <td>0.761000</td>\n",
       "      <td>0.840000</td>\n",
       "      <td>9.000000</td>\n",
       "      <td>-4.645000</td>\n",
       "      <td>1.000000</td>\n",
       "      <td>0.132000</td>\n",
       "      <td>0.255000</td>\n",
       "      <td>0.004830</td>\n",
       "      <td>0.248000</td>\n",
       "      <td>0.693000</td>\n",
       "      <td>133.918000</td>\n",
       "      <td>253585.000000</td>\n",
       "    </tr>\n",
       "    <tr>\n",
       "      <th>max</th>\n",
       "      <td>100.000000</td>\n",
       "      <td>0.983000</td>\n",
       "      <td>1.000000</td>\n",
       "      <td>11.000000</td>\n",
       "      <td>1.275000</td>\n",
       "      <td>1.000000</td>\n",
       "      <td>0.918000</td>\n",
       "      <td>0.994000</td>\n",
       "      <td>0.994000</td>\n",
       "      <td>0.996000</td>\n",
       "      <td>0.991000</td>\n",
       "      <td>239.440000</td>\n",
       "      <td>517810.000000</td>\n",
       "    </tr>\n",
       "  </tbody>\n",
       "</table>\n",
       "</div>"
      ],
      "text/plain": [
       "       track_popularity  danceability        energy           key  \\\n",
       "count      32833.000000  32833.000000  32833.000000  32833.000000   \n",
       "mean          42.477081      0.654850      0.698619      5.374471   \n",
       "std           24.984074      0.145085      0.180910      3.611657   \n",
       "min            0.000000      0.000000      0.000175      0.000000   \n",
       "25%           24.000000      0.563000      0.581000      2.000000   \n",
       "50%           45.000000      0.672000      0.721000      6.000000   \n",
       "75%           62.000000      0.761000      0.840000      9.000000   \n",
       "max          100.000000      0.983000      1.000000     11.000000   \n",
       "\n",
       "           loudness          mode   speechiness  acousticness  \\\n",
       "count  32833.000000  32833.000000  32833.000000  32833.000000   \n",
       "mean      -6.719499      0.565711      0.107068      0.175334   \n",
       "std        2.988436      0.495671      0.101314      0.219633   \n",
       "min      -46.448000      0.000000      0.000000      0.000000   \n",
       "25%       -8.171000      0.000000      0.041000      0.015100   \n",
       "50%       -6.166000      1.000000      0.062500      0.080400   \n",
       "75%       -4.645000      1.000000      0.132000      0.255000   \n",
       "max        1.275000      1.000000      0.918000      0.994000   \n",
       "\n",
       "       instrumentalness      liveness       valence         tempo  \\\n",
       "count      32833.000000  32833.000000  32833.000000  32833.000000   \n",
       "mean           0.084747      0.190176      0.510561    120.881132   \n",
       "std            0.224230      0.154317      0.233146     26.903624   \n",
       "min            0.000000      0.000000      0.000000      0.000000   \n",
       "25%            0.000000      0.092700      0.331000     99.960000   \n",
       "50%            0.000016      0.127000      0.512000    121.984000   \n",
       "75%            0.004830      0.248000      0.693000    133.918000   \n",
       "max            0.994000      0.996000      0.991000    239.440000   \n",
       "\n",
       "         duration_ms  \n",
       "count   32833.000000  \n",
       "mean   225799.811622  \n",
       "std     59834.006182  \n",
       "min      4000.000000  \n",
       "25%    187819.000000  \n",
       "50%    216000.000000  \n",
       "75%    253585.000000  \n",
       "max    517810.000000  "
      ]
     },
     "execution_count": 9,
     "metadata": {},
     "output_type": "execute_result"
    }
   ],
   "source": [
    "df.describe()"
   ]
  },
  {
   "cell_type": "markdown",
   "metadata": {},
   "source": [
    "#### **DATA CLEANING**\n",
    "***"
   ]
  },
  {
   "cell_type": "markdown",
   "metadata": {},
   "source": [
    "The features that are dropped below do not serve any purpose to us. They are either representing a pre-existing column in the dataset or unusable data"
   ]
  },
  {
   "cell_type": "code",
   "execution_count": 10,
   "metadata": {},
   "outputs": [],
   "source": [
    "df.drop(columns=[\"track_id\",\"track_album_id\",\"playlist_id\",\"playlist_name\"],axis=1,inplace=True)"
   ]
  },
  {
   "cell_type": "markdown",
   "metadata": {},
   "source": [
    "Only very few records with null values. Dropping the null values"
   ]
  },
  {
   "cell_type": "code",
   "execution_count": 11,
   "metadata": {},
   "outputs": [
    {
     "data": {
      "text/plain": [
       "track_name                  5\n",
       "track_artist                5\n",
       "track_popularity            0\n",
       "track_album_name            5\n",
       "track_album_release_date    0\n",
       "playlist_genre              0\n",
       "playlist_subgenre           0\n",
       "danceability                0\n",
       "energy                      0\n",
       "key                         0\n",
       "loudness                    0\n",
       "mode                        0\n",
       "speechiness                 0\n",
       "acousticness                0\n",
       "instrumentalness            0\n",
       "liveness                    0\n",
       "valence                     0\n",
       "tempo                       0\n",
       "duration_ms                 0\n",
       "dtype: int64"
      ]
     },
     "execution_count": 11,
     "metadata": {},
     "output_type": "execute_result"
    }
   ],
   "source": [
    "df.isnull().sum()"
   ]
  },
  {
   "cell_type": "code",
   "execution_count": 12,
   "metadata": {},
   "outputs": [],
   "source": [
    "df.dropna(how=\"any\",inplace=True)"
   ]
  },
  {
   "cell_type": "code",
   "execution_count": 13,
   "metadata": {},
   "outputs": [
    {
     "data": {
      "text/plain": [
       "(32828, 19)"
      ]
     },
     "execution_count": 13,
     "metadata": {},
     "output_type": "execute_result"
    }
   ],
   "source": [
    "df.shape"
   ]
  },
  {
   "cell_type": "markdown",
   "metadata": {},
   "source": [
    "Some records had unparsable characters in the artist names or song names. Those are deleted."
   ]
  },
  {
   "cell_type": "code",
   "execution_count": 14,
   "metadata": {},
   "outputs": [],
   "source": [
    "import regex as re\n",
    "\n",
    "def has_special_chars_in_row(row):\n",
    "    for col in row.index:\n",
    "        if isinstance(row[col], str) and bool(re.search(r'[^\\x00-\\x7F]', row[col])):\n",
    "            return True\n",
    "    return False\n",
    "df = df[~df.apply(has_special_chars_in_row, axis=1)]\n",
    "\n",
    "df['track_name'] = df['track_name'].str.encode('utf-8').str.decode('utf-8')\n",
    "df['track_artist'] = df['track_artist'].str.encode('utf-8').str.decode('utf-8')"
   ]
  },
  {
   "cell_type": "code",
   "execution_count": 15,
   "metadata": {},
   "outputs": [
    {
     "data": {
      "text/plain": [
       "(30193, 19)"
      ]
     },
     "execution_count": 15,
     "metadata": {},
     "output_type": "execute_result"
    }
   ],
   "source": [
    "df.shape"
   ]
  },
  {
   "cell_type": "markdown",
   "metadata": {},
   "source": [
    "Identifying and dropping duplicate songs (songs with same name & same artist are considered duplicate)"
   ]
  },
  {
   "cell_type": "code",
   "execution_count": 16,
   "metadata": {},
   "outputs": [
    {
     "data": {
      "text/plain": [
       "7075                                             #1 Stunna\n",
       "23318    $ave Dat Money (feat. Fetty Wap & Rich Homie Q...\n",
       "14503                                       '39 - 2011 Mix\n",
       "28964                                     'Till I Collapse\n",
       "15525                                     'Till I Collapse\n",
       "                               ...                        \n",
       "23478                                        thank u, next\n",
       "19795                                        thank u, next\n",
       "2578                                         thank u, next\n",
       "18382                                        thank u, next\n",
       "3814                                         thank u, next\n",
       "Name: track_name, Length: 6143, dtype: object"
      ]
     },
     "execution_count": 16,
     "metadata": {},
     "output_type": "execute_result"
    }
   ],
   "source": [
    "duplicates = df[df[[\"track_name\",\"track_artist\"]].duplicated()].sort_values(by=\"track_name\")\n",
    "duplicates.track_name"
   ]
  },
  {
   "cell_type": "code",
   "execution_count": 17,
   "metadata": {},
   "outputs": [],
   "source": [
    "df = df.drop_duplicates(subset=[\"track_name\", \"track_artist\"],keep=\"first\")"
   ]
  },
  {
   "cell_type": "code",
   "execution_count": 18,
   "metadata": {},
   "outputs": [
    {
     "data": {
      "text/plain": [
       "(24050, 19)"
      ]
     },
     "execution_count": 18,
     "metadata": {},
     "output_type": "execute_result"
    }
   ],
   "source": [
    "df.shape"
   ]
  },
  {
   "cell_type": "code",
   "execution_count": 19,
   "metadata": {},
   "outputs": [
    {
     "name": "stdout",
     "output_type": "stream",
     "text": [
      "Artists-------------------------\n",
      "track_artist\n",
      "Queen                                 111\n",
      "Martin Garrix                          72\n",
      "David Guetta                           64\n",
      "Logic                                  62\n",
      "Hardwell                               61\n",
      "                                     ... \n",
      "L'Epee                                  1\n",
      "Captain Beefheart & His Magic Band      1\n",
      "Jefferson Airplane                      1\n",
      "Underworld                              1\n",
      "Mat Zo                                  1\n",
      "Name: count, Length: 9978, dtype: int64\n",
      "Genre---------------------------\n",
      "playlist_genre\n",
      "rap      4680\n",
      "pop      4540\n",
      "edm      4361\n",
      "r&b      3848\n",
      "rock     3573\n",
      "latin    3048\n",
      "Name: count, dtype: int64\n",
      "Sub Genre-----------------------\n",
      "playlist_subgenre\n",
      "southern hip hop             1473\n",
      "indie poptimism              1443\n",
      "neo soul                     1328\n",
      "electro house                1323\n",
      "progressive electro house    1301\n",
      "hip hop                      1211\n",
      "dance pop                    1171\n",
      "urban contemporary           1093\n",
      "gangster rap                 1009\n",
      "electropop                    998\n",
      "trap                          987\n",
      "hard rock                     972\n",
      "big room                      942\n",
      "post-teen pop                 928\n",
      "album rock                    919\n",
      "latin hip hop                 915\n",
      "tropical                      914\n",
      "classic rock                  866\n",
      "permanent wave                816\n",
      "pop edm                       795\n",
      "latin pop                     765\n",
      "new jack swing                762\n",
      "hip pop                       665\n",
      "reggaeton                     454\n",
      "Name: count, dtype: int64\n"
     ]
    }
   ],
   "source": [
    "print(\"Artists-------------------------\")\n",
    "print(df[\"track_artist\"].value_counts())\n",
    "print(\"Genre---------------------------\")\n",
    "print(df[\"playlist_genre\"].value_counts())\n",
    "print(\"Sub Genre-----------------------\")\n",
    "print(df[\"playlist_subgenre\"].value_counts())"
   ]
  },
  {
   "cell_type": "markdown",
   "metadata": {},
   "source": [
    "Changing all the date to have just the year because they have different formats"
   ]
  },
  {
   "cell_type": "markdown",
   "metadata": {},
   "source": [
    "Some dates have just their year, while others have just the year and month while a few others have just the year. Since the anaysis and classification only requires the year, we are converting all the values to just the year"
   ]
  },
  {
   "cell_type": "code",
   "execution_count": 20,
   "metadata": {},
   "outputs": [],
   "source": [
    "from datetime import datetime\n",
    "def change_format(date):\n",
    "    if len(date) == 4:  #Some date formats are just year\n",
    "        return int(date)\n",
    "    elif len(date) == 7:  #Some are just year and month\n",
    "        return datetime.strptime(date, \"%Y-%m\").year\n",
    "    else:   #Some are the year, month and day\n",
    "        return datetime.strptime(date, \"%Y-%m-%d\").year\n",
    "\n",
    "df['track_album_release_year'] = df['track_album_release_date'].apply(change_format)"
   ]
  },
  {
   "cell_type": "markdown",
   "metadata": {},
   "source": [
    "#### **DATA VISUALISATION & TREND ANALYSIS**\n",
    "***"
   ]
  },
  {
   "cell_type": "markdown",
   "metadata": {},
   "source": [
    "* ### Identifying the relation between genre and popularity"
   ]
  },
  {
   "cell_type": "code",
   "execution_count": 21,
   "metadata": {},
   "outputs": [
    {
     "name": "stderr",
     "output_type": "stream",
     "text": [
      "C:\\Users\\itsme\\AppData\\Local\\Temp\\ipykernel_22188\\4041776318.py:2: FutureWarning: \n",
      "\n",
      "Passing `palette` without assigning `hue` is deprecated and will be removed in v0.14.0. Assign the `x` variable to `hue` and set `legend=False` for the same effect.\n",
      "\n",
      "  sns.catplot(data=df, x=\"playlist_genre\", y=\"track_popularity\", kind=\"bar\",palette = \"rainbow\",errorbar=None)\n"
     ]
    },
    {
     "data": {
      "text/plain": [
       "<Figure size 640x480 with 0 Axes>"
      ]
     },
     "metadata": {},
     "output_type": "display_data"
    },
    {
     "data": {
      "image/png": "[encoded data removed]",
      "text/plain": [
       "<Figure size 500x500 with 1 Axes>"
      ]
     },
     "metadata": {},
     "output_type": "display_data"
    }
   ],
   "source": [
    "plt.figure()\n",
    "sns.catplot(data=df, x=\"playlist_genre\", y=\"track_popularity\", kind=\"bar\",palette = \"rainbow\",errorbar=None)\n",
    "plt.xlabel(\"genre\")\n",
    "plt.ylabel(\"popularity score\")\n",
    "plt.title(\"Popularity scores of different Genre\")\n",
    "plt.show()"
   ]
  },
  {
   "cell_type": "markdown",
   "metadata": {},
   "source": [
    "(In the application, this comparison is done for different years and not on the cumulative dataset)"
   ]
  },
  {
   "cell_type": "markdown",
   "metadata": {},
   "source": [
    "* ### Identifying the relation between sub genre and popularity"
   ]
  },
  {
   "cell_type": "code",
   "execution_count": 22,
   "metadata": {},
   "outputs": [
    {
     "name": "stderr",
     "output_type": "stream",
     "text": [
      "C:\\Users\\itsme\\AppData\\Local\\Temp\\ipykernel_22188\\2383040565.py:2: FutureWarning: \n",
      "\n",
      "Passing `palette` without assigning `hue` is deprecated and will be removed in v0.14.0. Assign the `x` variable to `hue` and set `legend=False` for the same effect.\n",
      "\n",
      "  sns.catplot(data=df, x=\"playlist_subgenre\", y=\"track_popularity\", kind=\"bar\",palette = \"rainbow\",errorbar=None,aspect=2.5)\n"
     ]
    },
    {
     "data": {
      "text/plain": [
       "<Figure size 640x480 with 0 Axes>"
      ]
     },
     "metadata": {},
     "output_type": "display_data"
    },
    {
     "data": {
      "image/png": "[encoded data removed]",
      "text/plain": [
       "<Figure size 1250x500 with 1 Axes>"
      ]
     },
     "metadata": {},
     "output_type": "display_data"
    }
   ],
   "source": [
    "plt.figure()\n",
    "sns.catplot(data=df, x=\"playlist_subgenre\", y=\"track_popularity\", kind=\"bar\",palette = \"rainbow\",errorbar=None,aspect=2.5)\n",
    "plt.xlabel(\"sub genre\")\n",
    "plt.ylabel(\"popularity score\")\n",
    "plt.xticks(rotation=45,ha='right')\n",
    "plt.title(\"Popularity Scores of different sub-genre\")\n",
    "plt.show()"
   ]
  },
  {
   "cell_type": "markdown",
   "metadata": {},
   "source": [
    "Observing the number of songs belonging to different sub-genre"
   ]
  },
  {
   "cell_type": "code",
   "execution_count": 23,
   "metadata": {},
   "outputs": [
    {
     "data": {
      "text/html": [
       "<div>\n",
       "<style scoped>\n",
       "    .dataframe tbody tr th:only-of-type {\n",
       "        vertical-align: middle;\n",
       "    }\n",
       "\n",
       "    .dataframe tbody tr th {\n",
       "        vertical-align: top;\n",
       "    }\n",
       "\n",
       "    .dataframe thead th {\n",
       "        text-align: right;\n",
       "    }\n",
       "</style>\n",
       "<table border=\"1\" class=\"dataframe\">\n",
       "  <thead>\n",
       "    <tr style=\"text-align: right;\">\n",
       "      <th></th>\n",
       "      <th>playlist_genre</th>\n",
       "      <th>playlist_subgenre</th>\n",
       "      <th>count</th>\n",
       "    </tr>\n",
       "  </thead>\n",
       "  <tbody>\n",
       "    <tr>\n",
       "      <th>0</th>\n",
       "      <td>edm</td>\n",
       "      <td>electro house</td>\n",
       "      <td>1323</td>\n",
       "    </tr>\n",
       "    <tr>\n",
       "      <th>1</th>\n",
       "      <td>edm</td>\n",
       "      <td>progressive electro house</td>\n",
       "      <td>1301</td>\n",
       "    </tr>\n",
       "    <tr>\n",
       "      <th>2</th>\n",
       "      <td>edm</td>\n",
       "      <td>big room</td>\n",
       "      <td>942</td>\n",
       "    </tr>\n",
       "    <tr>\n",
       "      <th>3</th>\n",
       "      <td>edm</td>\n",
       "      <td>pop edm</td>\n",
       "      <td>795</td>\n",
       "    </tr>\n",
       "    <tr>\n",
       "      <th>4</th>\n",
       "      <td>latin</td>\n",
       "      <td>latin hip hop</td>\n",
       "      <td>915</td>\n",
       "    </tr>\n",
       "    <tr>\n",
       "      <th>5</th>\n",
       "      <td>latin</td>\n",
       "      <td>tropical</td>\n",
       "      <td>914</td>\n",
       "    </tr>\n",
       "    <tr>\n",
       "      <th>6</th>\n",
       "      <td>latin</td>\n",
       "      <td>latin pop</td>\n",
       "      <td>765</td>\n",
       "    </tr>\n",
       "    <tr>\n",
       "      <th>7</th>\n",
       "      <td>latin</td>\n",
       "      <td>reggaeton</td>\n",
       "      <td>454</td>\n",
       "    </tr>\n",
       "    <tr>\n",
       "      <th>8</th>\n",
       "      <td>pop</td>\n",
       "      <td>indie poptimism</td>\n",
       "      <td>1443</td>\n",
       "    </tr>\n",
       "    <tr>\n",
       "      <th>9</th>\n",
       "      <td>pop</td>\n",
       "      <td>dance pop</td>\n",
       "      <td>1171</td>\n",
       "    </tr>\n",
       "    <tr>\n",
       "      <th>10</th>\n",
       "      <td>pop</td>\n",
       "      <td>electropop</td>\n",
       "      <td>998</td>\n",
       "    </tr>\n",
       "    <tr>\n",
       "      <th>11</th>\n",
       "      <td>pop</td>\n",
       "      <td>post-teen pop</td>\n",
       "      <td>928</td>\n",
       "    </tr>\n",
       "    <tr>\n",
       "      <th>12</th>\n",
       "      <td>r&amp;b</td>\n",
       "      <td>neo soul</td>\n",
       "      <td>1328</td>\n",
       "    </tr>\n",
       "    <tr>\n",
       "      <th>13</th>\n",
       "      <td>r&amp;b</td>\n",
       "      <td>urban contemporary</td>\n",
       "      <td>1093</td>\n",
       "    </tr>\n",
       "    <tr>\n",
       "      <th>14</th>\n",
       "      <td>r&amp;b</td>\n",
       "      <td>new jack swing</td>\n",
       "      <td>762</td>\n",
       "    </tr>\n",
       "    <tr>\n",
       "      <th>15</th>\n",
       "      <td>r&amp;b</td>\n",
       "      <td>hip pop</td>\n",
       "      <td>665</td>\n",
       "    </tr>\n",
       "    <tr>\n",
       "      <th>16</th>\n",
       "      <td>rap</td>\n",
       "      <td>southern hip hop</td>\n",
       "      <td>1473</td>\n",
       "    </tr>\n",
       "    <tr>\n",
       "      <th>17</th>\n",
       "      <td>rap</td>\n",
       "      <td>hip hop</td>\n",
       "      <td>1211</td>\n",
       "    </tr>\n",
       "    <tr>\n",
       "      <th>18</th>\n",
       "      <td>rap</td>\n",
       "      <td>gangster rap</td>\n",
       "      <td>1009</td>\n",
       "    </tr>\n",
       "    <tr>\n",
       "      <th>19</th>\n",
       "      <td>rap</td>\n",
       "      <td>trap</td>\n",
       "      <td>987</td>\n",
       "    </tr>\n",
       "    <tr>\n",
       "      <th>20</th>\n",
       "      <td>rock</td>\n",
       "      <td>hard rock</td>\n",
       "      <td>972</td>\n",
       "    </tr>\n",
       "    <tr>\n",
       "      <th>21</th>\n",
       "      <td>rock</td>\n",
       "      <td>album rock</td>\n",
       "      <td>919</td>\n",
       "    </tr>\n",
       "    <tr>\n",
       "      <th>22</th>\n",
       "      <td>rock</td>\n",
       "      <td>classic rock</td>\n",
       "      <td>866</td>\n",
       "    </tr>\n",
       "    <tr>\n",
       "      <th>23</th>\n",
       "      <td>rock</td>\n",
       "      <td>permanent wave</td>\n",
       "      <td>816</td>\n",
       "    </tr>\n",
       "  </tbody>\n",
       "</table>\n",
       "</div>"
      ],
      "text/plain": [
       "   playlist_genre          playlist_subgenre  count\n",
       "0             edm              electro house   1323\n",
       "1             edm  progressive electro house   1301\n",
       "2             edm                   big room    942\n",
       "3             edm                    pop edm    795\n",
       "4           latin              latin hip hop    915\n",
       "5           latin                   tropical    914\n",
       "6           latin                  latin pop    765\n",
       "7           latin                  reggaeton    454\n",
       "8             pop            indie poptimism   1443\n",
       "9             pop                  dance pop   1171\n",
       "10            pop                 electropop    998\n",
       "11            pop              post-teen pop    928\n",
       "12            r&b                   neo soul   1328\n",
       "13            r&b         urban contemporary   1093\n",
       "14            r&b             new jack swing    762\n",
       "15            r&b                    hip pop    665\n",
       "16            rap           southern hip hop   1473\n",
       "17            rap                    hip hop   1211\n",
       "18            rap               gangster rap   1009\n",
       "19            rap                       trap    987\n",
       "20           rock                  hard rock    972\n",
       "21           rock                 album rock    919\n",
       "22           rock               classic rock    866\n",
       "23           rock             permanent wave    816"
      ]
     },
     "execution_count": 23,
     "metadata": {},
     "output_type": "execute_result"
    }
   ],
   "source": [
    "df_temp = df.groupby(\"playlist_genre\")[\"playlist_subgenre\"].value_counts().reset_index()\n",
    "df_temp"
   ]
  },
  {
   "cell_type": "markdown",
   "metadata": {},
   "source": [
    "* ### Finding the most popular genre over the years"
   ]
  },
  {
   "cell_type": "markdown",
   "metadata": {},
   "source": [
    "Since there isn't a direct score to analyse the popularity of the genre, we are going to use the feature \"track popularity\" that determines the popularity of a track. Genre popularity is calculated by taking the mean popularity of all the tracks belonging to a genre."
   ]
  },
  {
   "cell_type": "code",
   "execution_count": 24,
   "metadata": {},
   "outputs": [],
   "source": [
    "#Finding the mean popularity of each genre for each year and turning that into a pandas df using reset_index()\n",
    "genre_popularity = df.groupby(['track_album_release_year', 'playlist_genre'])['track_popularity'].mean().reset_index()\n",
    "\n",
    "#Finding the popularity with max value each year\n",
    "genre_popular = genre_popularity.groupby('track_album_release_year')['track_popularity'].idxmax()\n",
    "\n",
    "#Choosing the required columns\n",
    "most_popular_genre = genre_popularity.loc[genre_popular]"
   ]
  },
  {
   "cell_type": "code",
   "execution_count": 25,
   "metadata": {},
   "outputs": [
    {
     "data": {
      "text/html": [
       "<div>\n",
       "<style scoped>\n",
       "    .dataframe tbody tr th:only-of-type {\n",
       "        vertical-align: middle;\n",
       "    }\n",
       "\n",
       "    .dataframe tbody tr th {\n",
       "        vertical-align: top;\n",
       "    }\n",
       "\n",
       "    .dataframe thead th {\n",
       "        text-align: right;\n",
       "    }\n",
       "</style>\n",
       "<table border=\"1\" class=\"dataframe\">\n",
       "  <thead>\n",
       "    <tr style=\"text-align: right;\">\n",
       "      <th></th>\n",
       "      <th>track_album_release_year</th>\n",
       "      <th>playlist_genre</th>\n",
       "      <th>track_popularity</th>\n",
       "    </tr>\n",
       "  </thead>\n",
       "  <tbody>\n",
       "    <tr>\n",
       "      <th>0</th>\n",
       "      <td>1957</td>\n",
       "      <td>r&amp;b</td>\n",
       "      <td>59.000000</td>\n",
       "    </tr>\n",
       "    <tr>\n",
       "      <th>2</th>\n",
       "      <td>1958</td>\n",
       "      <td>rock</td>\n",
       "      <td>73.000000</td>\n",
       "    </tr>\n",
       "    <tr>\n",
       "      <th>3</th>\n",
       "      <td>1960</td>\n",
       "      <td>r&amp;b</td>\n",
       "      <td>16.333333</td>\n",
       "    </tr>\n",
       "    <tr>\n",
       "      <th>4</th>\n",
       "      <td>1961</td>\n",
       "      <td>r&amp;b</td>\n",
       "      <td>47.000000</td>\n",
       "    </tr>\n",
       "    <tr>\n",
       "      <th>5</th>\n",
       "      <td>1962</td>\n",
       "      <td>rock</td>\n",
       "      <td>64.000000</td>\n",
       "    </tr>\n",
       "  </tbody>\n",
       "</table>\n",
       "</div>"
      ],
      "text/plain": [
       "   track_album_release_year playlist_genre  track_popularity\n",
       "0                      1957            r&b         59.000000\n",
       "2                      1958           rock         73.000000\n",
       "3                      1960            r&b         16.333333\n",
       "4                      1961            r&b         47.000000\n",
       "5                      1962           rock         64.000000"
      ]
     },
     "execution_count": 25,
     "metadata": {},
     "output_type": "execute_result"
    }
   ],
   "source": [
    "most_popular_genre.head()"
   ]
  },
  {
   "cell_type": "markdown",
   "metadata": {},
   "source": [
    "Using a scatter plot to observe the most popular genre of each year."
   ]
  },
  {
   "cell_type": "code",
   "execution_count": 26,
   "metadata": {},
   "outputs": [
    {
     "data": {
      "text/plain": [
       "Text(0.5, 1.0, 'Popular genre over the years')"
      ]
     },
     "execution_count": 26,
     "metadata": {},
     "output_type": "execute_result"
    },
    {
     "data": {
      "image/png": "[encoded data removed]",
      "text/plain": [
       "<Figure size 1000x500 with 1 Axes>"
      ]
     },
     "metadata": {},
     "output_type": "display_data"
    }
   ],
   "source": [
    "plt.figure(figsize=(10,5))\n",
    "sns.scatterplot(x=most_popular_genre[\"track_album_release_year\"], y=most_popular_genre[\"playlist_genre\"], hue=most_popular_genre[\"playlist_genre\"],\n",
    "                palette=\"autumn\")\n",
    "plt.xlabel(\"release year\")\n",
    "plt.ylabel(\"genre\")\n",
    "plt.title(\"Popular genre over the years\")"
   ]
  },
  {
   "cell_type": "markdown",
   "metadata": {},
   "source": [
    "The trend of genre over the years can be observed, with r&b being the most popular in the early 1960s to late 1980s and pop genre taking over. Rock music seemed to be quite popular till the the late 2010s."
   ]
  },
  {
   "cell_type": "markdown",
   "metadata": {},
   "source": [
    "* ### To check if the comparison based on popularity score is fair, lets check out the average popularity scores over the years"
   ]
  },
  {
   "cell_type": "markdown",
   "metadata": {},
   "source": [
    "Inorder to make sure that we do not make biased assumptions based on hugely different popularity scores, it is important to observe if there is a drastic drift in the popularity score of tracks. Eg: If the popularity scores for songs back in the day is very high compared to now, it might be that the song popularity was calculated using a different metric. Having consistent scores will validate the next steps."
   ]
  },
  {
   "cell_type": "code",
   "execution_count": 27,
   "metadata": {},
   "outputs": [],
   "source": [
    "popularity = df.groupby(\"track_album_release_year\")[\"track_popularity\"].mean().reset_index()"
   ]
  },
  {
   "cell_type": "code",
   "execution_count": 28,
   "metadata": {},
   "outputs": [],
   "source": [
    "count_release = df.groupby(\"track_album_release_year\").size().reset_index(name=\"count\")"
   ]
  },
  {
   "cell_type": "markdown",
   "metadata": {},
   "source": [
    "Plotting the number of song releases and average popularity scores for each year"
   ]
  },
  {
   "cell_type": "code",
   "execution_count": 29,
   "metadata": {},
   "outputs": [
    {
     "data": {
      "image/png": "[encoded data removed]",
      "text/plain": [
       "<Figure size 1000x700 with 2 Axes>"
      ]
     },
     "metadata": {},
     "output_type": "display_data"
    }
   ],
   "source": [
    "fig, (plot1, plot2) = plt.subplots(2, 1, figsize=(10,7))\n",
    "warnings.filterwarnings(\"ignore\")\n",
    "\n",
    "sns.lineplot(data=popularity, x=\"track_album_release_year\", y=\"track_popularity\", ax=plot2, c=\"purple\")\n",
    "plot2.set_title('Average Track Popularity per Year')\n",
    "plot2.set_xlabel('Release Year',color=\"white\")\n",
    "plot2.set_ylabel('Average Popularity Score',color=\"white\")\n",
    "# plot2.set_xticks(color=\"white\")\n",
    "# plot2.set_yticks(color=\"white\")\n",
    "plot2.grid(True)\n",
    "\n",
    "sns.lineplot(data=count_release, x=\"track_album_release_year\", y=\"count\", ax=plot1, c=\"purple\")\n",
    "plot1.set_title('Number of Tracks Released per Year')\n",
    "plot1.set_xlabel('Release Year',color=\"white\")\n",
    "plot1.set_ylabel('Number of Tracks Released per year',color=\"white\")\n",
    "# plot1.set_xticks(color=\"white\")\n",
    "# plot1.set_yticks(color=\"white\")\n",
    "plot1.grid(True)\n",
    "\n",
    "plt.tight_layout()\n",
    "plt.show()"
   ]
  },
  {
   "cell_type": "markdown",
   "metadata": {},
   "source": [
    "Although the number of releases is exponentially more in later years, the data will not be biased because the average popularity score has remained almost the same over the years. Hence there wouldn't be a very evident differentiation between the tracks over the years."
   ]
  },
  {
   "cell_type": "markdown",
   "metadata": {},
   "source": [
    "### Lets check out popular artists now!"
   ]
  },
  {
   "cell_type": "markdown",
   "metadata": {},
   "source": [
    "* ### 20 most famous artists and their average popularity based on tracks OF ALL TIME"
   ]
  },
  {
   "cell_type": "code",
   "execution_count": 30,
   "metadata": {},
   "outputs": [],
   "source": [
    "artists = df.groupby(\"track_artist\")[\"track_popularity\"].mean().reset_index()\n",
    "artists = artists.sort_values(by=\"track_popularity\",ascending=False)[0:20]"
   ]
  },
  {
   "cell_type": "code",
   "execution_count": 31,
   "metadata": {},
   "outputs": [
    {
     "data": {
      "image/png": "[encoded data removed]",
      "text/plain": [
       "<Figure size 1200x400 with 1 Axes>"
      ]
     },
     "metadata": {},
     "output_type": "display_data"
    }
   ],
   "source": [
    "plt.figure(figsize=(12,4))\n",
    "sns.barplot(y=artists[\"track_artist\"], x=artists[\"track_popularity\"], palette=\"rainbow\", orient=\"h\")\n",
    "plt.xlabel(\"popularity score\")\n",
    "plt.ylabel(\"track artist\")\n",
    "plt.title(\"20 Most Famous Artists of All Time\")\n",
    "sns.set_style(\"dark\")"
   ]
  },
  {
   "cell_type": "markdown",
   "metadata": {},
   "source": [
    "* ### Famous artists over the years"
   ]
  },
  {
   "cell_type": "code",
   "execution_count": 32,
   "metadata": {},
   "outputs": [
    {
     "data": {
      "text/html": [
       "<div>\n",
       "<style scoped>\n",
       "    .dataframe tbody tr th:only-of-type {\n",
       "        vertical-align: middle;\n",
       "    }\n",
       "\n",
       "    .dataframe tbody tr th {\n",
       "        vertical-align: top;\n",
       "    }\n",
       "\n",
       "    .dataframe thead th {\n",
       "        text-align: right;\n",
       "    }\n",
       "</style>\n",
       "<table border=\"1\" class=\"dataframe\">\n",
       "  <thead>\n",
       "    <tr style=\"text-align: right;\">\n",
       "      <th></th>\n",
       "      <th>track_album_release_year</th>\n",
       "      <th>track_artist</th>\n",
       "      <th>track_popularity</th>\n",
       "    </tr>\n",
       "  </thead>\n",
       "  <tbody>\n",
       "    <tr>\n",
       "      <th>1</th>\n",
       "      <td>1957</td>\n",
       "      <td>Ray Charles</td>\n",
       "      <td>59</td>\n",
       "    </tr>\n",
       "    <tr>\n",
       "      <th>2</th>\n",
       "      <td>1958</td>\n",
       "      <td>Elvis Presley</td>\n",
       "      <td>73</td>\n",
       "    </tr>\n",
       "    <tr>\n",
       "      <th>4</th>\n",
       "      <td>1960</td>\n",
       "      <td>Etta James</td>\n",
       "      <td>25</td>\n",
       "    </tr>\n",
       "    <tr>\n",
       "      <th>6</th>\n",
       "      <td>1961</td>\n",
       "      <td>Chavela Vargas</td>\n",
       "      <td>47</td>\n",
       "    </tr>\n",
       "    <tr>\n",
       "      <th>7</th>\n",
       "      <td>1962</td>\n",
       "      <td>Booker T. &amp; the M.G.'s</td>\n",
       "      <td>64</td>\n",
       "    </tr>\n",
       "    <tr>\n",
       "      <th>...</th>\n",
       "      <td>...</td>\n",
       "      <td>...</td>\n",
       "      <td>...</td>\n",
       "    </tr>\n",
       "    <tr>\n",
       "      <th>7701</th>\n",
       "      <td>2016</td>\n",
       "      <td>Post Malone</td>\n",
       "      <td>84</td>\n",
       "    </tr>\n",
       "    <tr>\n",
       "      <th>8758</th>\n",
       "      <td>2017</td>\n",
       "      <td>NF</td>\n",
       "      <td>83</td>\n",
       "    </tr>\n",
       "    <tr>\n",
       "      <th>10609</th>\n",
       "      <td>2018</td>\n",
       "      <td>Trevor Daniel</td>\n",
       "      <td>97</td>\n",
       "    </tr>\n",
       "    <tr>\n",
       "      <th>14456</th>\n",
       "      <td>2019</td>\n",
       "      <td>The Weeknd</td>\n",
       "      <td>95</td>\n",
       "    </tr>\n",
       "    <tr>\n",
       "      <th>15162</th>\n",
       "      <td>2020</td>\n",
       "      <td>Justin Bieber</td>\n",
       "      <td>95</td>\n",
       "    </tr>\n",
       "  </tbody>\n",
       "</table>\n",
       "<p>63 rows × 3 columns</p>\n",
       "</div>"
      ],
      "text/plain": [
       "       track_album_release_year            track_artist  track_popularity\n",
       "1                          1957             Ray Charles                59\n",
       "2                          1958           Elvis Presley                73\n",
       "4                          1960              Etta James                25\n",
       "6                          1961          Chavela Vargas                47\n",
       "7                          1962  Booker T. & the M.G.'s                64\n",
       "...                         ...                     ...               ...\n",
       "7701                       2016             Post Malone                84\n",
       "8758                       2017                      NF                83\n",
       "10609                      2018           Trevor Daniel                97\n",
       "14456                      2019              The Weeknd                95\n",
       "15162                      2020           Justin Bieber                95\n",
       "\n",
       "[63 rows x 3 columns]"
      ]
     },
     "execution_count": 32,
     "metadata": {},
     "output_type": "execute_result"
    }
   ],
   "source": [
    "artists_year = df.groupby([\"track_album_release_year\",\"track_artist\"])[\"track_popularity\"].mean().astype(int).reset_index()\n",
    "artists_popular = artists_year.loc[artists_year.groupby(\"track_album_release_year\")[\"track_popularity\"].idxmax()]\n",
    "artists_popular"
   ]
  },
  {
   "cell_type": "markdown",
   "metadata": {},
   "source": [
    "* ### Most popular artists in the last 10 years"
   ]
  },
  {
   "cell_type": "code",
   "execution_count": 33,
   "metadata": {},
   "outputs": [],
   "source": [
    "artists = artists_popular.sort_values(by=\"track_album_release_year\",ascending=False)[0:10]"
   ]
  },
  {
   "cell_type": "code",
   "execution_count": 34,
   "metadata": {},
   "outputs": [
    {
     "data": {
      "text/plain": [
       "Text(0.5, 1.0, 'Most Popular Artists over the year')"
      ]
     },
     "execution_count": 34,
     "metadata": {},
     "output_type": "execute_result"
    },
    {
     "data": {
      "image/png": "[encoded data removed]",
      "text/plain": [
       "<Figure size 800x400 with 1 Axes>"
      ]
     },
     "metadata": {},
     "output_type": "display_data"
    }
   ],
   "source": [
    "plt.figure(figsize=(8,4))\n",
    "sns.set_style(\"darkgrid\")\n",
    "sns.scatterplot(x=artists[\"track_album_release_year\"], y=artists[\"track_artist\"],hue=artists[\"track_artist\"],\n",
    "                palette=\"autumn\",\n",
    "                size=artists[\"track_popularity\"],\n",
    "                legend=False,\n",
    "                )\n",
    "\n",
    "for x in range(artists.shape[0]):\n",
    "    plt.annotate(f\"{artists['track_popularity'].iloc[x]}\",\n",
    "                 (artists['track_album_release_year'].iloc[x], artists['track_artist'].iloc[x]),\n",
    "                 textcoords=\"offset points\",\n",
    "                 xytext=(9,-4),\n",
    "                 fontsize=11)\n",
    "\n",
    "plt.xlabel(\"release year\")\n",
    "plt.ylabel(\"track artist\")\n",
    "plt.title(\"Most Popular Artists over the year\")"
   ]
  },
  {
   "cell_type": "markdown",
   "metadata": {},
   "source": [
    "The size of the dots represent the magnitude of popularity score"
   ]
  },
  {
   "cell_type": "markdown",
   "metadata": {},
   "source": [
    "* ### Most popular artist of each genre"
   ]
  },
  {
   "cell_type": "code",
   "execution_count": 35,
   "metadata": {},
   "outputs": [],
   "source": [
    "artists_genre = df.groupby([\"playlist_genre\",\"track_artist\"])[\"track_popularity\"].mean().reset_index()\n",
    "artists_genre_popular = artists_genre.loc[artists_genre.groupby(\"playlist_genre\")[\"track_popularity\"].idxmax()]"
   ]
  },
  {
   "cell_type": "code",
   "execution_count": 36,
   "metadata": {},
   "outputs": [
    {
     "data": {
      "text/html": [
       "<div>\n",
       "<style scoped>\n",
       "    .dataframe tbody tr th:only-of-type {\n",
       "        vertical-align: middle;\n",
       "    }\n",
       "\n",
       "    .dataframe tbody tr th {\n",
       "        vertical-align: top;\n",
       "    }\n",
       "\n",
       "    .dataframe thead th {\n",
       "        text-align: right;\n",
       "    }\n",
       "</style>\n",
       "<table border=\"1\" class=\"dataframe\">\n",
       "  <thead>\n",
       "    <tr style=\"text-align: right;\">\n",
       "      <th></th>\n",
       "      <th>playlist_genre</th>\n",
       "      <th>track_artist</th>\n",
       "      <th>track_popularity</th>\n",
       "    </tr>\n",
       "  </thead>\n",
       "  <tbody>\n",
       "    <tr>\n",
       "      <th>64</th>\n",
       "      <td>edm</td>\n",
       "      <td>Alex &amp; Sierra</td>\n",
       "      <td>79.0</td>\n",
       "    </tr>\n",
       "    <tr>\n",
       "      <th>3450</th>\n",
       "      <td>latin</td>\n",
       "      <td>Post Malone</td>\n",
       "      <td>90.0</td>\n",
       "    </tr>\n",
       "    <tr>\n",
       "      <th>5000</th>\n",
       "      <td>pop</td>\n",
       "      <td>KAROL G</td>\n",
       "      <td>98.0</td>\n",
       "    </tr>\n",
       "    <tr>\n",
       "      <th>6967</th>\n",
       "      <td>r&amp;b</td>\n",
       "      <td>Harry Styles</td>\n",
       "      <td>88.0</td>\n",
       "    </tr>\n",
       "    <tr>\n",
       "      <th>8619</th>\n",
       "      <td>rap</td>\n",
       "      <td>Don Toliver</td>\n",
       "      <td>87.5</td>\n",
       "    </tr>\n",
       "    <tr>\n",
       "      <th>11019</th>\n",
       "      <td>rock</td>\n",
       "      <td>Peachy!</td>\n",
       "      <td>78.0</td>\n",
       "    </tr>\n",
       "  </tbody>\n",
       "</table>\n",
       "</div>"
      ],
      "text/plain": [
       "      playlist_genre   track_artist  track_popularity\n",
       "64               edm  Alex & Sierra              79.0\n",
       "3450           latin    Post Malone              90.0\n",
       "5000             pop        KAROL G              98.0\n",
       "6967             r&b   Harry Styles              88.0\n",
       "8619             rap    Don Toliver              87.5\n",
       "11019           rock        Peachy!              78.0"
      ]
     },
     "execution_count": 36,
     "metadata": {},
     "output_type": "execute_result"
    }
   ],
   "source": [
    "artists_genre_popular"
   ]
  },
  {
   "cell_type": "markdown",
   "metadata": {},
   "source": [
    "Doesn't necessarily mean that they make that genre of music predominantly, but one or more of their tracks belonging to that genre is popular"
   ]
  },
  {
   "cell_type": "markdown",
   "metadata": {},
   "source": [
    "* ### Finding the correlation between genre of music and the different features defining music"
   ]
  },
  {
   "cell_type": "markdown",
   "metadata": {},
   "source": [
    "First, we need to encode the categorical variables, namely the genre and the subgenre. We are using label encoding for this. \n",
    "\n",
    "What is label Encoding?\n",
    "\n",
    "Label Encoding assigns numerical values to data starting from 0. It is essential to convert features to have numerical values for training the model and for purposes like determining the correlation matrix"
   ]
  },
  {
   "cell_type": "code",
   "execution_count": 37,
   "metadata": {},
   "outputs": [],
   "source": [
    "#Encoding of categorical variables\n",
    "\n",
    "from sklearn.preprocessing import LabelEncoder\n",
    "\n",
    "LabelEncoding = LabelEncoder()\n",
    "\n",
    "df[\"playlist_genre_encoded\"] = LabelEncoding.fit_transform(df[\"playlist_genre\"])\n",
    "df[\"playlist_subgenre_encoded\"] = LabelEncoding.fit_transform(df[\"playlist_subgenre\"]) "
   ]
  },
  {
   "cell_type": "code",
   "execution_count": 38,
   "metadata": {},
   "outputs": [
    {
     "data": {
      "text/plain": [
       "playlist_genre  playlist_genre_encoded\n",
       "rap             4                         4680\n",
       "pop             2                         4540\n",
       "edm             0                         4361\n",
       "r&b             3                         3848\n",
       "rock            5                         3573\n",
       "latin           1                         3048\n",
       "Name: count, dtype: int64"
      ]
     },
     "execution_count": 38,
     "metadata": {},
     "output_type": "execute_result"
    }
   ],
   "source": [
    "df[[\"playlist_genre\",\"playlist_genre_encoded\"]].value_counts()"
   ]
  },
  {
   "cell_type": "markdown",
   "metadata": {},
   "source": [
    "Plotting a heat map to observe the correlation between different features"
   ]
  },
  {
   "cell_type": "code",
   "execution_count": 39,
   "metadata": {},
   "outputs": [
    {
     "data": {
      "text/plain": [
       "Text(0.5, 1.0, 'Correlation Matrix')"
      ]
     },
     "execution_count": 39,
     "metadata": {},
     "output_type": "execute_result"
    },
    {
     "data": {
      "image/png": "[encoded data removed]",
      "text/plain": [
       "<Figure size 700x700 with 2 Axes>"
      ]
     },
     "metadata": {},
     "output_type": "display_data"
    }
   ],
   "source": [
    "features = [\"playlist_genre_encoded\",\"playlist_subgenre_encoded\",\"track_popularity\", \"danceability\", \"energy\", \"key\", \"loudness\", \"mode\", \"speechiness\", \"acousticness\", \"instrumentalness\", \"liveness\", \"valence\", \"tempo\"]\n",
    "corr_matrix = df[features].corr()\n",
    "\n",
    "plt.figure(figsize=(7,7))\n",
    "sns.heatmap(corr_matrix, cmap='coolwarm', square=True, cbar=True)\n",
    "plt.title(\"Correlation Matrix\")"
   ]
  },
  {
   "cell_type": "markdown",
   "metadata": {},
   "source": [
    "**SCALING FEATURES**\n",
    "\n",
    "The features are scaled using the minmax scaler which scales the required numerical features to have values between 0 and 1. Scaling is required so that model prediction will be weighted equally by all the features and not by a few features having a higher range of values.\n",
    "\n",
    "Why use MinMax scaler?\n",
    "\n",
    "Most of the song features have values between 0 and 1. It would therefore be easy to scale all the features to that range. Besides, it will be useful in the application for setting a range for users to select the value from."
   ]
  },
  {
   "cell_type": "markdown",
   "metadata": {},
   "source": [
    "Calculation:\n",
    "\n",
    "X_std = (X - X.min(axis=0)) / (X.max(axis=0) - X.min(axis=0))\n",
    "\n",
    "X_scaled = X_std * (max - min) + min"
   ]
  },
  {
   "cell_type": "code",
   "execution_count": 40,
   "metadata": {},
   "outputs": [],
   "source": [
    "#Scaling the numerical features with larger values to values between 0 and 1 to match others\n",
    "from sklearn.preprocessing import MinMaxScaler\n",
    "scaler = MinMaxScaler()\n",
    "\n",
    "df[[\"track_popularity\",\"tempo\",\"loudness\",\"instrumentalness\",\"key\"]] = scaler.fit_transform(df[[\"track_popularity\",\"tempo\",\"loudness\",\"instrumentalness\",\"key\"]])"
   ]
  },
  {
   "cell_type": "markdown",
   "metadata": {},
   "source": [
    "Observing the distribution of features using a box plot because it provides clarity on the presence of outliers"
   ]
  },
  {
   "cell_type": "code",
   "execution_count": 41,
   "metadata": {},
   "outputs": [
    {
     "data": {
      "image/png": "[encoded data removed]",
      "text/plain": [
       "<Figure size 1500x400 with 1 Axes>"
      ]
     },
     "metadata": {},
     "output_type": "display_data"
    }
   ],
   "source": [
    "features = [\"track_popularity\", \"danceability\", \"energy\", \"key\", \"loudness\", \"mode\", \"speechiness\", \"acousticness\", \"instrumentalness\", \"liveness\", \"valence\", \"tempo\"]\n",
    "plt.figure(figsize=(15,4))\n",
    "sns.boxplot(data=df[features])\n",
    "plt.tight_layout()"
   ]
  },
  {
   "cell_type": "markdown",
   "metadata": {},
   "source": [
    "## USING THESE FEATURES LETS TRY TO CLASSIFY THE TRACKS INTO THEIR RESPECTIVE GENRE"
   ]
  },
  {
   "cell_type": "code",
   "execution_count": 42,
   "metadata": {},
   "outputs": [],
   "source": [
    "#feature selection for classification\n",
    "\n",
    "features = [\"danceability\", \"energy\", \"key\", \"loudness\", \"mode\", \"speechiness\", \"acousticness\",\"instrumentalness\"]"
   ]
  },
  {
   "cell_type": "code",
   "execution_count": 43,
   "metadata": {},
   "outputs": [],
   "source": [
    "#Splitting the data for training and testing\n",
    "\n",
    "from sklearn.model_selection import train_test_split\n",
    "\n",
    "X = df[features]\n",
    "y = df[\"playlist_genre_encoded\"]\n",
    "\n",
    "X_train, X_test, y_train, y_test = train_test_split(X,y, test_size = 1/3, random_state=42)"
   ]
  },
  {
   "cell_type": "markdown",
   "metadata": {},
   "source": [
    "The model used here is the Random Forest Classifier, The model builds a number of trees using the training dataset and determines the final classification using majority voting. This classifier works well with multivariable classification problems which makes it a good choice for genre classification.\n",
    "This model is chosen after trying with a number of other models."
   ]
  },
  {
   "cell_type": "code",
   "execution_count": 44,
   "metadata": {},
   "outputs": [
    {
     "data": {
      "text/html": [
       "<style>#sk-container-id-1 {color: black;background-color: white;}#sk-container-id-1 pre{padding: 0;}#sk-container-id-1 div.sk-toggleable {background-color: white;}#sk-container-id-1 label.sk-toggleable__label {cursor: pointer;display: block;width: 100%;margin-bottom: 0;padding: 0.3em;box-sizing: border-box;text-align: center;}#sk-container-id-1 label.sk-toggleable__label-arrow:before {content: \"▸\";float: left;margin-right: 0.25em;color: #696969;}#sk-container-id-1 label.sk-toggleable__label-arrow:hover:before {color: black;}#sk-container-id-1 div.sk-estimator:hover label.sk-toggleable__label-arrow:before {color: black;}#sk-container-id-1 div.sk-toggleable__content {max-height: 0;max-width: 0;overflow: hidden;text-align: left;background-color: #f0f8ff;}#sk-container-id-1 div.sk-toggleable__content pre {margin: 0.2em;color: black;border-radius: 0.25em;background-color: #f0f8ff;}#sk-container-id-1 input.sk-toggleable__control:checked~div.sk-toggleable__content {max-height: 200px;max-width: 100%;overflow: auto;}#sk-container-id-1 input.sk-toggleable__control:checked~label.sk-toggleable__label-arrow:before {content: \"▾\";}#sk-container-id-1 div.sk-estimator input.sk-toggleable__control:checked~label.sk-toggleable__label {background-color: #d4ebff;}#sk-container-id-1 div.sk-label input.sk-toggleable__control:checked~label.sk-toggleable__label {background-color: #d4ebff;}#sk-container-id-1 input.sk-hidden--visually {border: 0;clip: rect(1px 1px 1px 1px);clip: rect(1px, 1px, 1px, 1px);height: 1px;margin: -1px;overflow: hidden;padding: 0;position: absolute;width: 1px;}#sk-container-id-1 div.sk-estimator {font-family: monospace;background-color: #f0f8ff;border: 1px dotted black;border-radius: 0.25em;box-sizing: border-box;margin-bottom: 0.5em;}#sk-container-id-1 div.sk-estimator:hover {background-color: #d4ebff;}#sk-container-id-1 div.sk-parallel-item::after {content: \"\";width: 100%;border-bottom: 1px solid gray;flex-grow: 1;}#sk-container-id-1 div.sk-label:hover label.sk-toggleable__label {background-color: #d4ebff;}#sk-container-id-1 div.sk-serial::before {content: \"\";position: absolute;border-left: 1px solid gray;box-sizing: border-box;top: 0;bottom: 0;left: 50%;z-index: 0;}#sk-container-id-1 div.sk-serial {display: flex;flex-direction: column;align-items: center;background-color: white;padding-right: 0.2em;padding-left: 0.2em;position: relative;}#sk-container-id-1 div.sk-item {position: relative;z-index: 1;}#sk-container-id-1 div.sk-parallel {display: flex;align-items: stretch;justify-content: center;background-color: white;position: relative;}#sk-container-id-1 div.sk-item::before, #sk-container-id-1 div.sk-parallel-item::before {content: \"\";position: absolute;border-left: 1px solid gray;box-sizing: border-box;top: 0;bottom: 0;left: 50%;z-index: -1;}#sk-container-id-1 div.sk-parallel-item {display: flex;flex-direction: column;z-index: 1;position: relative;background-color: white;}#sk-container-id-1 div.sk-parallel-item:first-child::after {align-self: flex-end;width: 50%;}#sk-container-id-1 div.sk-parallel-item:last-child::after {align-self: flex-start;width: 50%;}#sk-container-id-1 div.sk-parallel-item:only-child::after {width: 0;}#sk-container-id-1 div.sk-dashed-wrapped {border: 1px dashed gray;margin: 0 0.4em 0.5em 0.4em;box-sizing: border-box;padding-bottom: 0.4em;background-color: white;}#sk-container-id-1 div.sk-label label {font-family: monospace;font-weight: bold;display: inline-block;line-height: 1.2em;}#sk-container-id-1 div.sk-label-container {text-align: center;}#sk-container-id-1 div.sk-container {/* jupyter's `normalize.less` sets `[hidden] { display: none; }` but bootstrap.min.css set `[hidden] { display: none !important; }` so we also need the `!important` here to be able to override the default hidden behavior on the sphinx rendered scikit-learn.org. See: https://github.com/scikit-learn/scikit-learn/issues/21755 */display: inline-block !important;position: relative;}#sk-container-id-1 div.sk-text-repr-fallback {display: none;}</style><div id=\"sk-container-id-1\" class=\"sk-top-container\"><div class=\"sk-text-repr-fallback\"><pre>RandomForestClassifier(n_estimators=1000, random_state=10)</pre><b>In a Jupyter environment, please rerun this cell to show the HTML representation or trust the notebook. <br />On GitHub, the HTML representation is unable to render, please try loading this page with nbviewer.org.</b></div><div class=\"sk-container\" hidden><div class=\"sk-item\"><div class=\"sk-estimator sk-toggleable\"><input class=\"sk-toggleable__control sk-hidden--visually\" id=\"sk-estimator-id-1\" type=\"checkbox\" checked><label for=\"sk-estimator-id-1\" class=\"sk-toggleable__label sk-toggleable__label-arrow\">RandomForestClassifier</label><div class=\"sk-toggleable__content\"><pre>RandomForestClassifier(n_estimators=1000, random_state=10)</pre></div></div></div></div></div>"
      ],
      "text/plain": [
       "RandomForestClassifier(n_estimators=1000, random_state=10)"
      ]
     },
     "execution_count": 44,
     "metadata": {},
     "output_type": "execute_result"
    }
   ],
   "source": [
    "#Using the random forest classifier\n",
    "\n",
    "from sklearn.ensemble import RandomForestClassifier\n",
    "\n",
    "forestModel = RandomForestClassifier(n_estimators=1000,random_state=10)\n",
    "forestModel.fit(X_train,y_train)"
   ]
  },
  {
   "cell_type": "code",
   "execution_count": 46,
   "metadata": {},
   "outputs": [
    {
     "data": {
      "text/plain": [
       "0.4821005363602345"
      ]
     },
     "execution_count": 46,
     "metadata": {},
     "output_type": "execute_result"
    }
   ],
   "source": [
    "#Calculating the accuracy score of the model.\n",
    "from sklearn.metrics import accuracy_score\n",
    "\n",
    "y_pred = forestModel.predict(X_test)\n",
    "accuracy_score(y_test,y_pred)"
   ]
  },
  {
   "cell_type": "markdown",
   "metadata": {},
   "source": [
    "There are 6 genres into which the model classifies data. The accuracy of a random guess would be about 16.66%. The accuracy score is not very good but it seems to have trained based on the given features, thus providing a higher accuracy than a random guess."
   ]
  },
  {
   "cell_type": "code",
   "execution_count": 47,
   "metadata": {},
   "outputs": [],
   "source": [
    "#Determining the cross validation score for the model using cv value of 15 since the dataset is quite big\n",
    "from sklearn.model_selection import cross_val_score\n",
    "\n",
    "scores = cross_val_score(forestModel, X_train, y_train, cv=15)"
   ]
  },
  {
   "cell_type": "code",
   "execution_count": 48,
   "metadata": {},
   "outputs": [
    {
     "name": "stdout",
     "output_type": "stream",
     "text": [
      "Cross-Validation Scores: [0.49766137 0.49766137 0.47240412 0.47895229 0.4686623  0.46398503\n",
      " 0.4686623  0.47521048 0.49579046 0.51169317 0.46117867 0.48175865\n",
      " 0.50233863 0.47565543 0.48689139]\n",
      "Mean Score: 0.4825670437677879\n"
     ]
    }
   ],
   "source": [
    "print(f'Cross-Validation Scores: {scores}')\n",
    "print(f'Mean Score: {scores.mean()}')"
   ]
  },
  {
   "cell_type": "code",
   "execution_count": 49,
   "metadata": {},
   "outputs": [
    {
     "name": "stdout",
     "output_type": "stream",
     "text": [
      "Maximum Score: 0.5116931711880262\n"
     ]
    }
   ],
   "source": [
    "print(f'Maximum Score: {scores.max()}')"
   ]
  },
  {
   "cell_type": "markdown",
   "metadata": {},
   "source": [
    "## SONG RECOMMENDATION USING NEAREST NEIGHBOURS ALGORITHM"
   ]
  },
  {
   "cell_type": "code",
   "execution_count": 50,
   "metadata": {},
   "outputs": [],
   "source": [
    "features = [\"danceability\", \"energy\", \"key\", \"loudness\", \"mode\", \"speechiness\", \"acousticness\"]"
   ]
  },
  {
   "cell_type": "code",
   "execution_count": 51,
   "metadata": {},
   "outputs": [],
   "source": [
    "df.to_csv('songs.csv', index=False)"
   ]
  },
  {
   "cell_type": "code",
   "execution_count": 52,
   "metadata": {},
   "outputs": [
    {
     "name": "stdout",
     "output_type": "stream",
     "text": [
      "0.0  -  0.983\n",
      "0.000175  -  1.0\n",
      "0.0  -  1.0\n",
      "0.0  -  1.0\n",
      "0  -  1\n",
      "0.0  -  0.918\n",
      "0.0  -  0.994\n"
     ]
    }
   ],
   "source": [
    "#Determining the range of features\n",
    "\n",
    "for x in features:\n",
    "    print(df[x].min(), \" - \", df[x].max())"
   ]
  },
  {
   "cell_type": "code",
   "execution_count": 53,
   "metadata": {},
   "outputs": [],
   "source": [
    "X = df[features]"
   ]
  },
  {
   "cell_type": "markdown",
   "metadata": {},
   "source": [
    "Why Nearest Neighbours algorithm?\n",
    "\n",
    "The song recommendation system is based on feature proximity and does not have any labels to definitely classify it into. In such cases unsupervised learning algorithms such as nearest neighbours finds the closest data points based on any specified metrics like the Euclidean Distance, Manhattan Distance, Cosine Similarity etc. The model takes in one input, the features and outputs the required number of data points closest to the input."
   ]
  },
  {
   "cell_type": "code",
   "execution_count": 54,
   "metadata": {},
   "outputs": [
    {
     "data": {
      "text/html": [
       "<style>#sk-container-id-2 {color: black;background-color: white;}#sk-container-id-2 pre{padding: 0;}#sk-container-id-2 div.sk-toggleable {background-color: white;}#sk-container-id-2 label.sk-toggleable__label {cursor: pointer;display: block;width: 100%;margin-bottom: 0;padding: 0.3em;box-sizing: border-box;text-align: center;}#sk-container-id-2 label.sk-toggleable__label-arrow:before {content: \"▸\";float: left;margin-right: 0.25em;color: #696969;}#sk-container-id-2 label.sk-toggleable__label-arrow:hover:before {color: black;}#sk-container-id-2 div.sk-estimator:hover label.sk-toggleable__label-arrow:before {color: black;}#sk-container-id-2 div.sk-toggleable__content {max-height: 0;max-width: 0;overflow: hidden;text-align: left;background-color: #f0f8ff;}#sk-container-id-2 div.sk-toggleable__content pre {margin: 0.2em;color: black;border-radius: 0.25em;background-color: #f0f8ff;}#sk-container-id-2 input.sk-toggleable__control:checked~div.sk-toggleable__content {max-height: 200px;max-width: 100%;overflow: auto;}#sk-container-id-2 input.sk-toggleable__control:checked~label.sk-toggleable__label-arrow:before {content: \"▾\";}#sk-container-id-2 div.sk-estimator input.sk-toggleable__control:checked~label.sk-toggleable__label {background-color: #d4ebff;}#sk-container-id-2 div.sk-label input.sk-toggleable__control:checked~label.sk-toggleable__label {background-color: #d4ebff;}#sk-container-id-2 input.sk-hidden--visually {border: 0;clip: rect(1px 1px 1px 1px);clip: rect(1px, 1px, 1px, 1px);height: 1px;margin: -1px;overflow: hidden;padding: 0;position: absolute;width: 1px;}#sk-container-id-2 div.sk-estimator {font-family: monospace;background-color: #f0f8ff;border: 1px dotted black;border-radius: 0.25em;box-sizing: border-box;margin-bottom: 0.5em;}#sk-container-id-2 div.sk-estimator:hover {background-color: #d4ebff;}#sk-container-id-2 div.sk-parallel-item::after {content: \"\";width: 100%;border-bottom: 1px solid gray;flex-grow: 1;}#sk-container-id-2 div.sk-label:hover label.sk-toggleable__label {background-color: #d4ebff;}#sk-container-id-2 div.sk-serial::before {content: \"\";position: absolute;border-left: 1px solid gray;box-sizing: border-box;top: 0;bottom: 0;left: 50%;z-index: 0;}#sk-container-id-2 div.sk-serial {display: flex;flex-direction: column;align-items: center;background-color: white;padding-right: 0.2em;padding-left: 0.2em;position: relative;}#sk-container-id-2 div.sk-item {position: relative;z-index: 1;}#sk-container-id-2 div.sk-parallel {display: flex;align-items: stretch;justify-content: center;background-color: white;position: relative;}#sk-container-id-2 div.sk-item::before, #sk-container-id-2 div.sk-parallel-item::before {content: \"\";position: absolute;border-left: 1px solid gray;box-sizing: border-box;top: 0;bottom: 0;left: 50%;z-index: -1;}#sk-container-id-2 div.sk-parallel-item {display: flex;flex-direction: column;z-index: 1;position: relative;background-color: white;}#sk-container-id-2 div.sk-parallel-item:first-child::after {align-self: flex-end;width: 50%;}#sk-container-id-2 div.sk-parallel-item:last-child::after {align-self: flex-start;width: 50%;}#sk-container-id-2 div.sk-parallel-item:only-child::after {width: 0;}#sk-container-id-2 div.sk-dashed-wrapped {border: 1px dashed gray;margin: 0 0.4em 0.5em 0.4em;box-sizing: border-box;padding-bottom: 0.4em;background-color: white;}#sk-container-id-2 div.sk-label label {font-family: monospace;font-weight: bold;display: inline-block;line-height: 1.2em;}#sk-container-id-2 div.sk-label-container {text-align: center;}#sk-container-id-2 div.sk-container {/* jupyter's `normalize.less` sets `[hidden] { display: none; }` but bootstrap.min.css set `[hidden] { display: none !important; }` so we also need the `!important` here to be able to override the default hidden behavior on the sphinx rendered scikit-learn.org. See: https://github.com/scikit-learn/scikit-learn/issues/21755 */display: inline-block !important;position: relative;}#sk-container-id-2 div.sk-text-repr-fallback {display: none;}</style><div id=\"sk-container-id-2\" class=\"sk-top-container\"><div class=\"sk-text-repr-fallback\"><pre>NearestNeighbors(n_neighbors=11)</pre><b>In a Jupyter environment, please rerun this cell to show the HTML representation or trust the notebook. <br />On GitHub, the HTML representation is unable to render, please try loading this page with nbviewer.org.</b></div><div class=\"sk-container\" hidden><div class=\"sk-item\"><div class=\"sk-estimator sk-toggleable\"><input class=\"sk-toggleable__control sk-hidden--visually\" id=\"sk-estimator-id-2\" type=\"checkbox\" checked><label for=\"sk-estimator-id-2\" class=\"sk-toggleable__label sk-toggleable__label-arrow\">NearestNeighbors</label><div class=\"sk-toggleable__content\"><pre>NearestNeighbors(n_neighbors=11)</pre></div></div></div></div></div>"
      ],
      "text/plain": [
       "NearestNeighbors(n_neighbors=11)"
      ]
     },
     "execution_count": 54,
     "metadata": {},
     "output_type": "execute_result"
    }
   ],
   "source": [
    "from sklearn.neighbors import NearestNeighbors\n",
    "\n",
    "knn = NearestNeighbors(n_neighbors=11)\n",
    "\n",
    "knn.fit(X)"
   ]
  },
  {
   "cell_type": "markdown",
   "metadata": {},
   "source": [
    "A sample data point"
   ]
  },
  {
   "cell_type": "code",
   "execution_count": 56,
   "metadata": {},
   "outputs": [
    {
     "data": {
      "text/html": [
       "<div>\n",
       "<style scoped>\n",
       "    .dataframe tbody tr th:only-of-type {\n",
       "        vertical-align: middle;\n",
       "    }\n",
       "\n",
       "    .dataframe tbody tr th {\n",
       "        vertical-align: top;\n",
       "    }\n",
       "\n",
       "    .dataframe thead th {\n",
       "        text-align: right;\n",
       "    }\n",
       "</style>\n",
       "<table border=\"1\" class=\"dataframe\">\n",
       "  <thead>\n",
       "    <tr style=\"text-align: right;\">\n",
       "      <th></th>\n",
       "      <th>danceability</th>\n",
       "      <th>energy</th>\n",
       "      <th>key</th>\n",
       "      <th>loudness</th>\n",
       "      <th>mode</th>\n",
       "      <th>speechiness</th>\n",
       "      <th>acousticness</th>\n",
       "    </tr>\n",
       "  </thead>\n",
       "  <tbody>\n",
       "    <tr>\n",
       "      <th>0</th>\n",
       "      <td>0.748</td>\n",
       "      <td>0.916</td>\n",
       "      <td>0.545455</td>\n",
       "      <td>0.91809</td>\n",
       "      <td>1</td>\n",
       "      <td>0.0583</td>\n",
       "      <td>0.102</td>\n",
       "    </tr>\n",
       "  </tbody>\n",
       "</table>\n",
       "</div>"
      ],
      "text/plain": [
       "   danceability  energy       key  loudness  mode  speechiness  acousticness\n",
       "0         0.748   0.916  0.545455   0.91809     1       0.0583         0.102"
      ]
     },
     "execution_count": 56,
     "metadata": {},
     "output_type": "execute_result"
    }
   ],
   "source": [
    "track = \"I Don't Care (with Justin Bieber) - Loud Luxury Remix\"\n",
    "record = df[df[\"track_name\"] == track]\n",
    "record_features = record[features]\n",
    "record_features"
   ]
  },
  {
   "cell_type": "code",
   "execution_count": 57,
   "metadata": {},
   "outputs": [],
   "source": [
    "distance, index = knn.kneighbors(record_features)\n",
    "similar_tracks = df.iloc[index[0]]"
   ]
  },
  {
   "cell_type": "code",
   "execution_count": 58,
   "metadata": {},
   "outputs": [
    {
     "data": {
      "text/html": [
       "<div>\n",
       "<style scoped>\n",
       "    .dataframe tbody tr th:only-of-type {\n",
       "        vertical-align: middle;\n",
       "    }\n",
       "\n",
       "    .dataframe tbody tr th {\n",
       "        vertical-align: top;\n",
       "    }\n",
       "\n",
       "    .dataframe thead th {\n",
       "        text-align: right;\n",
       "    }\n",
       "</style>\n",
       "<table border=\"1\" class=\"dataframe\">\n",
       "  <thead>\n",
       "    <tr style=\"text-align: right;\">\n",
       "      <th></th>\n",
       "      <th>track_name</th>\n",
       "      <th>track_artist</th>\n",
       "      <th>track_popularity</th>\n",
       "      <th>track_album_name</th>\n",
       "      <th>track_album_release_date</th>\n",
       "      <th>playlist_genre</th>\n",
       "      <th>playlist_subgenre</th>\n",
       "      <th>danceability</th>\n",
       "      <th>energy</th>\n",
       "      <th>key</th>\n",
       "      <th>...</th>\n",
       "      <th>speechiness</th>\n",
       "      <th>acousticness</th>\n",
       "      <th>instrumentalness</th>\n",
       "      <th>liveness</th>\n",
       "      <th>valence</th>\n",
       "      <th>tempo</th>\n",
       "      <th>duration_ms</th>\n",
       "      <th>track_album_release_year</th>\n",
       "      <th>playlist_genre_encoded</th>\n",
       "      <th>playlist_subgenre_encoded</th>\n",
       "    </tr>\n",
       "  </thead>\n",
       "  <tbody>\n",
       "    <tr>\n",
       "      <th>0</th>\n",
       "      <td>I Don't Care (with Justin Bieber) - Loud Luxur...</td>\n",
       "      <td>Ed Sheeran</td>\n",
       "      <td>0.673469</td>\n",
       "      <td>I Don't Care (with Justin Bieber) [Loud Luxury...</td>\n",
       "      <td>2019-06-14</td>\n",
       "      <td>pop</td>\n",
       "      <td>dance pop</td>\n",
       "      <td>0.748</td>\n",
       "      <td>0.916</td>\n",
       "      <td>0.545455</td>\n",
       "      <td>...</td>\n",
       "      <td>0.0583</td>\n",
       "      <td>0.1020</td>\n",
       "      <td>0.000000</td>\n",
       "      <td>0.0653</td>\n",
       "      <td>0.518</td>\n",
       "      <td>0.509673</td>\n",
       "      <td>194754</td>\n",
       "      <td>2019</td>\n",
       "      <td>2</td>\n",
       "      <td>3</td>\n",
       "    </tr>\n",
       "    <tr>\n",
       "      <th>28239</th>\n",
       "      <td>Can't Stop Playing (Makes Me High) [feat. Ane ...</td>\n",
       "      <td>DR. KUCHO!</td>\n",
       "      <td>0.581633</td>\n",
       "      <td>Can't Stop Playing (Remixes)</td>\n",
       "      <td>2005</td>\n",
       "      <td>edm</td>\n",
       "      <td>electro house</td>\n",
       "      <td>0.708</td>\n",
       "      <td>0.904</td>\n",
       "      <td>0.545455</td>\n",
       "      <td>...</td>\n",
       "      <td>0.0408</td>\n",
       "      <td>0.0863</td>\n",
       "      <td>0.000180</td>\n",
       "      <td>0.1780</td>\n",
       "      <td>0.750</td>\n",
       "      <td>0.522060</td>\n",
       "      <td>157466</td>\n",
       "      <td>2005</td>\n",
       "      <td>0</td>\n",
       "      <td>4</td>\n",
       "    </tr>\n",
       "    <tr>\n",
       "      <th>2371</th>\n",
       "      <td>The Fox (What Does the Fox Say?)</td>\n",
       "      <td>Ylvis</td>\n",
       "      <td>0.663265</td>\n",
       "      <td>The Fox (What Does The Fox Say?)</td>\n",
       "      <td>2013-09-02</td>\n",
       "      <td>pop</td>\n",
       "      <td>post-teen pop</td>\n",
       "      <td>0.703</td>\n",
       "      <td>0.867</td>\n",
       "      <td>0.545455</td>\n",
       "      <td>...</td>\n",
       "      <td>0.0453</td>\n",
       "      <td>0.1070</td>\n",
       "      <td>0.000000</td>\n",
       "      <td>0.1190</td>\n",
       "      <td>0.546</td>\n",
       "      <td>0.534614</td>\n",
       "      <td>213708</td>\n",
       "      <td>2013</td>\n",
       "      <td>2</td>\n",
       "      <td>17</td>\n",
       "    </tr>\n",
       "    <tr>\n",
       "      <th>30816</th>\n",
       "      <td>Body Body</td>\n",
       "      <td>Appyday</td>\n",
       "      <td>0.306122</td>\n",
       "      <td>Body Body</td>\n",
       "      <td>2018-05-28</td>\n",
       "      <td>edm</td>\n",
       "      <td>pop edm</td>\n",
       "      <td>0.757</td>\n",
       "      <td>0.902</td>\n",
       "      <td>0.545455</td>\n",
       "      <td>...</td>\n",
       "      <td>0.0472</td>\n",
       "      <td>0.0274</td>\n",
       "      <td>0.016700</td>\n",
       "      <td>0.3210</td>\n",
       "      <td>0.789</td>\n",
       "      <td>0.434414</td>\n",
       "      <td>207042</td>\n",
       "      <td>2018</td>\n",
       "      <td>0</td>\n",
       "      <td>16</td>\n",
       "    </tr>\n",
       "    <tr>\n",
       "      <th>30492</th>\n",
       "      <td>How's This</td>\n",
       "      <td>HyunA</td>\n",
       "      <td>0.000000</td>\n",
       "      <td>A'wesome</td>\n",
       "      <td>2016-08-01</td>\n",
       "      <td>edm</td>\n",
       "      <td>pop edm</td>\n",
       "      <td>0.746</td>\n",
       "      <td>0.917</td>\n",
       "      <td>0.545455</td>\n",
       "      <td>...</td>\n",
       "      <td>0.0542</td>\n",
       "      <td>0.0225</td>\n",
       "      <td>0.000000</td>\n",
       "      <td>0.0527</td>\n",
       "      <td>0.720</td>\n",
       "      <td>0.417683</td>\n",
       "      <td>199210</td>\n",
       "      <td>2016</td>\n",
       "      <td>0</td>\n",
       "      <td>16</td>\n",
       "    </tr>\n",
       "    <tr>\n",
       "      <th>18079</th>\n",
       "      <td>El Calendario</td>\n",
       "      <td>Pasabordo</td>\n",
       "      <td>0.000000</td>\n",
       "      <td>Por Ti</td>\n",
       "      <td>2008-05-16</td>\n",
       "      <td>latin</td>\n",
       "      <td>latin pop</td>\n",
       "      <td>0.706</td>\n",
       "      <td>0.866</td>\n",
       "      <td>0.545455</td>\n",
       "      <td>...</td>\n",
       "      <td>0.0481</td>\n",
       "      <td>0.1200</td>\n",
       "      <td>0.000000</td>\n",
       "      <td>0.1230</td>\n",
       "      <td>0.853</td>\n",
       "      <td>0.438081</td>\n",
       "      <td>187840</td>\n",
       "      <td>2008</td>\n",
       "      <td>1</td>\n",
       "      <td>12</td>\n",
       "    </tr>\n",
       "    <tr>\n",
       "      <th>26995</th>\n",
       "      <td>That Beat</td>\n",
       "      <td>Matroda</td>\n",
       "      <td>0.285714</td>\n",
       "      <td>The RED Tape - Side A</td>\n",
       "      <td>2019-03-22</td>\n",
       "      <td>edm</td>\n",
       "      <td>electro house</td>\n",
       "      <td>0.758</td>\n",
       "      <td>0.947</td>\n",
       "      <td>0.545455</td>\n",
       "      <td>...</td>\n",
       "      <td>0.0468</td>\n",
       "      <td>0.0171</td>\n",
       "      <td>0.565392</td>\n",
       "      <td>0.1140</td>\n",
       "      <td>0.427</td>\n",
       "      <td>0.526282</td>\n",
       "      <td>149325</td>\n",
       "      <td>2019</td>\n",
       "      <td>0</td>\n",
       "      <td>4</td>\n",
       "    </tr>\n",
       "    <tr>\n",
       "      <th>649</th>\n",
       "      <td>Summertime Love</td>\n",
       "      <td>Captain Cuts</td>\n",
       "      <td>0.561224</td>\n",
       "      <td>Summertime Love</td>\n",
       "      <td>2019-08-23</td>\n",
       "      <td>pop</td>\n",
       "      <td>dance pop</td>\n",
       "      <td>0.713</td>\n",
       "      <td>0.850</td>\n",
       "      <td>0.545455</td>\n",
       "      <td>...</td>\n",
       "      <td>0.0582</td>\n",
       "      <td>0.1400</td>\n",
       "      <td>0.000010</td>\n",
       "      <td>0.1740</td>\n",
       "      <td>0.672</td>\n",
       "      <td>0.509443</td>\n",
       "      <td>143670</td>\n",
       "      <td>2019</td>\n",
       "      <td>2</td>\n",
       "      <td>3</td>\n",
       "    </tr>\n",
       "    <tr>\n",
       "      <th>18025</th>\n",
       "      <td>Sabes A Chocolate</td>\n",
       "      <td>Kumbia Kings</td>\n",
       "      <td>0.418367</td>\n",
       "      <td>Sabes A Chocolate</td>\n",
       "      <td>2008-01-01</td>\n",
       "      <td>latin</td>\n",
       "      <td>latin pop</td>\n",
       "      <td>0.749</td>\n",
       "      <td>0.908</td>\n",
       "      <td>0.636364</td>\n",
       "      <td>...</td>\n",
       "      <td>0.0673</td>\n",
       "      <td>0.1030</td>\n",
       "      <td>0.000332</td>\n",
       "      <td>0.1500</td>\n",
       "      <td>0.761</td>\n",
       "      <td>0.459251</td>\n",
       "      <td>226333</td>\n",
       "      <td>2008</td>\n",
       "      <td>1</td>\n",
       "      <td>12</td>\n",
       "    </tr>\n",
       "    <tr>\n",
       "      <th>365</th>\n",
       "      <td>Came Here for Love</td>\n",
       "      <td>Sigala</td>\n",
       "      <td>0.693878</td>\n",
       "      <td>Came Here for Love</td>\n",
       "      <td>2017-06-09</td>\n",
       "      <td>pop</td>\n",
       "      <td>dance pop</td>\n",
       "      <td>0.708</td>\n",
       "      <td>0.868</td>\n",
       "      <td>0.545455</td>\n",
       "      <td>...</td>\n",
       "      <td>0.0431</td>\n",
       "      <td>0.0313</td>\n",
       "      <td>0.000000</td>\n",
       "      <td>0.1220</td>\n",
       "      <td>0.720</td>\n",
       "      <td>0.522026</td>\n",
       "      <td>202999</td>\n",
       "      <td>2017</td>\n",
       "      <td>2</td>\n",
       "      <td>3</td>\n",
       "    </tr>\n",
       "    <tr>\n",
       "      <th>26912</th>\n",
       "      <td>Nobody Like You - RetroVision Flip</td>\n",
       "      <td>Landis</td>\n",
       "      <td>0.581633</td>\n",
       "      <td>Nobody Like You (RetroVision Flip)</td>\n",
       "      <td>2019-09-13</td>\n",
       "      <td>edm</td>\n",
       "      <td>electro house</td>\n",
       "      <td>0.745</td>\n",
       "      <td>0.929</td>\n",
       "      <td>0.545455</td>\n",
       "      <td>...</td>\n",
       "      <td>0.1530</td>\n",
       "      <td>0.1180</td>\n",
       "      <td>0.000499</td>\n",
       "      <td>0.6090</td>\n",
       "      <td>0.302</td>\n",
       "      <td>0.522202</td>\n",
       "      <td>205440</td>\n",
       "      <td>2019</td>\n",
       "      <td>0</td>\n",
       "      <td>4</td>\n",
       "    </tr>\n",
       "  </tbody>\n",
       "</table>\n",
       "<p>11 rows × 22 columns</p>\n",
       "</div>"
      ],
      "text/plain": [
       "                                              track_name  track_artist  \\\n",
       "0      I Don't Care (with Justin Bieber) - Loud Luxur...    Ed Sheeran   \n",
       "28239  Can't Stop Playing (Makes Me High) [feat. Ane ...    DR. KUCHO!   \n",
       "2371                    The Fox (What Does the Fox Say?)         Ylvis   \n",
       "30816                                          Body Body       Appyday   \n",
       "30492                                         How's This         HyunA   \n",
       "18079                                      El Calendario     Pasabordo   \n",
       "26995                                          That Beat       Matroda   \n",
       "649                                      Summertime Love  Captain Cuts   \n",
       "18025                                  Sabes A Chocolate  Kumbia Kings   \n",
       "365                                   Came Here for Love        Sigala   \n",
       "26912                 Nobody Like You - RetroVision Flip        Landis   \n",
       "\n",
       "       track_popularity                                   track_album_name  \\\n",
       "0              0.673469  I Don't Care (with Justin Bieber) [Loud Luxury...   \n",
       "28239          0.581633                       Can't Stop Playing (Remixes)   \n",
       "2371           0.663265                   The Fox (What Does The Fox Say?)   \n",
       "30816          0.306122                                          Body Body   \n",
       "30492          0.000000                                           A'wesome   \n",
       "18079          0.000000                                             Por Ti   \n",
       "26995          0.285714                              The RED Tape - Side A   \n",
       "649            0.561224                                    Summertime Love   \n",
       "18025          0.418367                                  Sabes A Chocolate   \n",
       "365            0.693878                                 Came Here for Love   \n",
       "26912          0.581633                 Nobody Like You (RetroVision Flip)   \n",
       "\n",
       "      track_album_release_date playlist_genre playlist_subgenre  danceability  \\\n",
       "0                   2019-06-14            pop         dance pop         0.748   \n",
       "28239                     2005            edm     electro house         0.708   \n",
       "2371                2013-09-02            pop     post-teen pop         0.703   \n",
       "30816               2018-05-28            edm           pop edm         0.757   \n",
       "30492               2016-08-01            edm           pop edm         0.746   \n",
       "18079               2008-05-16          latin         latin pop         0.706   \n",
       "26995               2019-03-22            edm     electro house         0.758   \n",
       "649                 2019-08-23            pop         dance pop         0.713   \n",
       "18025               2008-01-01          latin         latin pop         0.749   \n",
       "365                 2017-06-09            pop         dance pop         0.708   \n",
       "26912               2019-09-13            edm     electro house         0.745   \n",
       "\n",
       "       energy       key  ...  speechiness  acousticness  instrumentalness  \\\n",
       "0       0.916  0.545455  ...       0.0583        0.1020          0.000000   \n",
       "28239   0.904  0.545455  ...       0.0408        0.0863          0.000180   \n",
       "2371    0.867  0.545455  ...       0.0453        0.1070          0.000000   \n",
       "30816   0.902  0.545455  ...       0.0472        0.0274          0.016700   \n",
       "30492   0.917  0.545455  ...       0.0542        0.0225          0.000000   \n",
       "18079   0.866  0.545455  ...       0.0481        0.1200          0.000000   \n",
       "26995   0.947  0.545455  ...       0.0468        0.0171          0.565392   \n",
       "649     0.850  0.545455  ...       0.0582        0.1400          0.000010   \n",
       "18025   0.908  0.636364  ...       0.0673        0.1030          0.000332   \n",
       "365     0.868  0.545455  ...       0.0431        0.0313          0.000000   \n",
       "26912   0.929  0.545455  ...       0.1530        0.1180          0.000499   \n",
       "\n",
       "       liveness  valence     tempo  duration_ms  track_album_release_year  \\\n",
       "0        0.0653    0.518  0.509673       194754                      2019   \n",
       "28239    0.1780    0.750  0.522060       157466                      2005   \n",
       "2371     0.1190    0.546  0.534614       213708                      2013   \n",
       "30816    0.3210    0.789  0.434414       207042                      2018   \n",
       "30492    0.0527    0.720  0.417683       199210                      2016   \n",
       "18079    0.1230    0.853  0.438081       187840                      2008   \n",
       "26995    0.1140    0.427  0.526282       149325                      2019   \n",
       "649      0.1740    0.672  0.509443       143670                      2019   \n",
       "18025    0.1500    0.761  0.459251       226333                      2008   \n",
       "365      0.1220    0.720  0.522026       202999                      2017   \n",
       "26912    0.6090    0.302  0.522202       205440                      2019   \n",
       "\n",
       "       playlist_genre_encoded  playlist_subgenre_encoded  \n",
       "0                           2                          3  \n",
       "28239                       0                          4  \n",
       "2371                        2                         17  \n",
       "30816                       0                         16  \n",
       "30492                       0                         16  \n",
       "18079                       1                         12  \n",
       "26995                       0                          4  \n",
       "649                         2                          3  \n",
       "18025                       1                         12  \n",
       "365                         2                          3  \n",
       "26912                       0                          4  \n",
       "\n",
       "[11 rows x 22 columns]"
      ]
     },
     "execution_count": 58,
     "metadata": {},
     "output_type": "execute_result"
    }
   ],
   "source": [
    "similar_tracks"
   ]
  },
  {
   "cell_type": "markdown",
   "metadata": {},
   "source": [
    "Calculation of similarity can be considered as a metric for calculating the accuracy of the model. Since the model is an unsupervised learning model without any definite classes or values to compare it to for predicting accuracy, calculating of mean similarity between the predicted values and the input values can serve as a good estimate for observing the model performance."
   ]
  },
  {
   "cell_type": "code",
   "execution_count": 59,
   "metadata": {},
   "outputs": [],
   "source": [
    "#Calculating the similarity between the input and the predicted features\n",
    "\n",
    "def calc_similarity(actual, calc):\n",
    "    value = (abs(actual - calc)/actual)*100\n",
    "    return (100 - value)"
   ]
  },
  {
   "cell_type": "markdown",
   "metadata": {},
   "source": [
    "Trying to display the similarity between each feature in the 10 similar data samples and the input sample"
   ]
  },
  {
   "cell_type": "code",
   "execution_count": 60,
   "metadata": {},
   "outputs": [],
   "source": [
    "plot_data = []\n",
    "similarity_score = []\n",
    "\n",
    "for x in range(10):\n",
    "    track = similar_tracks.iloc[x,:]\n",
    "    track_record = {}\n",
    "    for y in track.keys():\n",
    "        if(y in features):\n",
    "            score = calc_similarity(record_features[y].values[0], track[y])\n",
    "            track_record[y] = score\n",
    "\n",
    "            plot_data.append({\n",
    "                \"Track\": f\"Track {x}\",\n",
    "                \"Category\": y,\n",
    "                \"Value\": record_features[y].values[0],\n",
    "                \"Type\": \"Actual\"\n",
    "            })\n",
    "            plot_data.append({\n",
    "                \"Track\": f\"Track {x}\",\n",
    "                \"Category\": y,\n",
    "                \"Value\": score/100,\n",
    "                \"Type\": \"Calculated\"\n",
    "            })\n",
    "    similarity_score.append(track_record)\n",
    "            "
   ]
  },
  {
   "cell_type": "code",
   "execution_count": 61,
   "metadata": {},
   "outputs": [
    {
     "data": {
      "text/html": [
       "<div>\n",
       "<style scoped>\n",
       "    .dataframe tbody tr th:only-of-type {\n",
       "        vertical-align: middle;\n",
       "    }\n",
       "\n",
       "    .dataframe tbody tr th {\n",
       "        vertical-align: top;\n",
       "    }\n",
       "\n",
       "    .dataframe thead th {\n",
       "        text-align: right;\n",
       "    }\n",
       "</style>\n",
       "<table border=\"1\" class=\"dataframe\">\n",
       "  <thead>\n",
       "    <tr style=\"text-align: right;\">\n",
       "      <th></th>\n",
       "      <th>Track</th>\n",
       "      <th>Category</th>\n",
       "      <th>Value</th>\n",
       "      <th>Type</th>\n",
       "    </tr>\n",
       "  </thead>\n",
       "  <tbody>\n",
       "    <tr>\n",
       "      <th>0</th>\n",
       "      <td>Track 0</td>\n",
       "      <td>danceability</td>\n",
       "      <td>0.748000</td>\n",
       "      <td>Actual</td>\n",
       "    </tr>\n",
       "    <tr>\n",
       "      <th>1</th>\n",
       "      <td>Track 0</td>\n",
       "      <td>danceability</td>\n",
       "      <td>1.000000</td>\n",
       "      <td>Calculated</td>\n",
       "    </tr>\n",
       "    <tr>\n",
       "      <th>2</th>\n",
       "      <td>Track 0</td>\n",
       "      <td>energy</td>\n",
       "      <td>0.916000</td>\n",
       "      <td>Actual</td>\n",
       "    </tr>\n",
       "    <tr>\n",
       "      <th>3</th>\n",
       "      <td>Track 0</td>\n",
       "      <td>energy</td>\n",
       "      <td>1.000000</td>\n",
       "      <td>Calculated</td>\n",
       "    </tr>\n",
       "    <tr>\n",
       "      <th>4</th>\n",
       "      <td>Track 0</td>\n",
       "      <td>key</td>\n",
       "      <td>0.545455</td>\n",
       "      <td>Actual</td>\n",
       "    </tr>\n",
       "    <tr>\n",
       "      <th>5</th>\n",
       "      <td>Track 0</td>\n",
       "      <td>key</td>\n",
       "      <td>1.000000</td>\n",
       "      <td>Calculated</td>\n",
       "    </tr>\n",
       "    <tr>\n",
       "      <th>6</th>\n",
       "      <td>Track 0</td>\n",
       "      <td>loudness</td>\n",
       "      <td>0.918090</td>\n",
       "      <td>Actual</td>\n",
       "    </tr>\n",
       "    <tr>\n",
       "      <th>7</th>\n",
       "      <td>Track 0</td>\n",
       "      <td>loudness</td>\n",
       "      <td>1.000000</td>\n",
       "      <td>Calculated</td>\n",
       "    </tr>\n",
       "    <tr>\n",
       "      <th>8</th>\n",
       "      <td>Track 0</td>\n",
       "      <td>mode</td>\n",
       "      <td>1.000000</td>\n",
       "      <td>Actual</td>\n",
       "    </tr>\n",
       "    <tr>\n",
       "      <th>9</th>\n",
       "      <td>Track 0</td>\n",
       "      <td>mode</td>\n",
       "      <td>1.000000</td>\n",
       "      <td>Calculated</td>\n",
       "    </tr>\n",
       "    <tr>\n",
       "      <th>10</th>\n",
       "      <td>Track 0</td>\n",
       "      <td>speechiness</td>\n",
       "      <td>0.058300</td>\n",
       "      <td>Actual</td>\n",
       "    </tr>\n",
       "    <tr>\n",
       "      <th>11</th>\n",
       "      <td>Track 0</td>\n",
       "      <td>speechiness</td>\n",
       "      <td>1.000000</td>\n",
       "      <td>Calculated</td>\n",
       "    </tr>\n",
       "    <tr>\n",
       "      <th>12</th>\n",
       "      <td>Track 0</td>\n",
       "      <td>acousticness</td>\n",
       "      <td>0.102000</td>\n",
       "      <td>Actual</td>\n",
       "    </tr>\n",
       "    <tr>\n",
       "      <th>13</th>\n",
       "      <td>Track 0</td>\n",
       "      <td>acousticness</td>\n",
       "      <td>1.000000</td>\n",
       "      <td>Calculated</td>\n",
       "    </tr>\n",
       "    <tr>\n",
       "      <th>14</th>\n",
       "      <td>Track 1</td>\n",
       "      <td>danceability</td>\n",
       "      <td>0.748000</td>\n",
       "      <td>Actual</td>\n",
       "    </tr>\n",
       "  </tbody>\n",
       "</table>\n",
       "</div>"
      ],
      "text/plain": [
       "      Track      Category     Value        Type\n",
       "0   Track 0  danceability  0.748000      Actual\n",
       "1   Track 0  danceability  1.000000  Calculated\n",
       "2   Track 0        energy  0.916000      Actual\n",
       "3   Track 0        energy  1.000000  Calculated\n",
       "4   Track 0           key  0.545455      Actual\n",
       "5   Track 0           key  1.000000  Calculated\n",
       "6   Track 0      loudness  0.918090      Actual\n",
       "7   Track 0      loudness  1.000000  Calculated\n",
       "8   Track 0          mode  1.000000      Actual\n",
       "9   Track 0          mode  1.000000  Calculated\n",
       "10  Track 0   speechiness  0.058300      Actual\n",
       "11  Track 0   speechiness  1.000000  Calculated\n",
       "12  Track 0  acousticness  0.102000      Actual\n",
       "13  Track 0  acousticness  1.000000  Calculated\n",
       "14  Track 1  danceability  0.748000      Actual"
      ]
     },
     "execution_count": 61,
     "metadata": {},
     "output_type": "execute_result"
    }
   ],
   "source": [
    "plot_df = pd.DataFrame(plot_data)\n",
    "plot_df.head(15)"
   ]
  },
  {
   "cell_type": "markdown",
   "metadata": {},
   "source": [
    "Using a bar plot to compare the values"
   ]
  },
  {
   "cell_type": "code",
   "execution_count": 62,
   "metadata": {},
   "outputs": [],
   "source": [
    "def bar_plot(track):\n",
    "    Track = f\"Track {track}\"\n",
    "    temp_df = plot_df[plot_df[\"Track\"] == Track]\n",
    "    print(temp_df)\n",
    "\n",
    "    plt.figure(figsize=(4,4))\n",
    "    sns.barplot(x=\"Category\", y=\"Value\", hue=\"Type\", palette=[\"crimson\",\"teal\"], data=temp_df)\n",
    "    plt.xlabel(\"Category\", fontsize=14)\n",
    "    plt.ylabel(\"Value\", fontsize=14)\n",
    "    plt.title(\"SIMILARITY\")\n",
    "    plt.xticks(rotation=90)\n",
    "    plt.tight_layout()"
   ]
  },
  {
   "cell_type": "code",
   "execution_count": 63,
   "metadata": {},
   "outputs": [
    {
     "name": "stdout",
     "output_type": "stream",
     "text": [
      "      Track      Category     Value        Type\n",
      "84  Track 6  danceability  0.748000      Actual\n",
      "85  Track 6  danceability  0.986631  Calculated\n",
      "86  Track 6        energy  0.916000      Actual\n",
      "87  Track 6        energy  0.966157  Calculated\n",
      "88  Track 6           key  0.545455      Actual\n",
      "89  Track 6           key  1.000000  Calculated\n",
      "90  Track 6      loudness  0.918090      Actual\n",
      "91  Track 6      loudness  0.990711  Calculated\n",
      "92  Track 6          mode  1.000000      Actual\n",
      "93  Track 6          mode  1.000000  Calculated\n",
      "94  Track 6   speechiness  0.058300      Actual\n",
      "95  Track 6   speechiness  0.802744  Calculated\n",
      "96  Track 6  acousticness  0.102000      Actual\n",
      "97  Track 6  acousticness  0.167647  Calculated\n"
     ]
    },
    {
     "data": {
      "image/png": "[encoded data removed]",
      "text/plain": [
       "<Figure size 400x400 with 1 Axes>"
      ]
     },
     "metadata": {},
     "output_type": "display_data"
    }
   ],
   "source": [
    "bar_plot(6)"
   ]
  },
  {
   "cell_type": "markdown",
   "metadata": {},
   "source": [
    "Iteratively displaying all the similarity score calculated above"
   ]
  },
  {
   "cell_type": "code",
   "execution_count": 64,
   "metadata": {},
   "outputs": [
    {
     "name": "stdout",
     "output_type": "stream",
     "text": [
      "danceability -> 100.0\n",
      "energy -> 100.0\n",
      "key -> 100.0\n",
      "loudness -> 100.0\n",
      "mode -> 100.0\n",
      "speechiness -> 100.0\n",
      "acousticness -> 100.0\n",
      "100.0\n",
      "\n",
      "\n",
      "danceability -> 94.65240641711229\n",
      "energy -> 98.68995633187772\n",
      "key -> 100.0\n",
      "loudness -> 94.82813712511982\n",
      "mode -> 100.0\n",
      "speechiness -> 69.98284734133792\n",
      "acousticness -> 84.6078431372549\n",
      "91.82302719324323\n",
      "\n",
      "\n",
      "danceability -> 93.98395721925134\n",
      "energy -> 94.65065502183405\n",
      "key -> 100.0\n",
      "loudness -> 96.21582142694116\n",
      "mode -> 100.0\n",
      "speechiness -> 77.70154373927959\n",
      "acousticness -> 95.09803921568627\n",
      "93.95000237471321\n",
      "\n",
      "\n",
      "danceability -> 98.79679144385027\n",
      "energy -> 98.47161572052401\n",
      "key -> 100.0\n",
      "loudness -> 99.8219747112795\n",
      "mode -> 100.0\n",
      "speechiness -> 80.96054888507719\n",
      "acousticness -> 26.862745098039213\n",
      "86.41623940839574\n",
      "\n",
      "\n",
      "danceability -> 99.73262032085562\n",
      "energy -> 99.89082969432314\n",
      "key -> 100.0\n",
      "loudness -> 98.96836627561967\n",
      "mode -> 100.0\n",
      "speechiness -> 92.96740994854203\n",
      "acousticness -> 22.058823529411768\n",
      "87.65972139553602\n",
      "\n",
      "\n",
      "danceability -> 94.3850267379679\n",
      "energy -> 94.5414847161572\n",
      "key -> 100.0\n",
      "loudness -> 94.8943260145159\n",
      "mode -> 100.0\n",
      "speechiness -> 82.50428816466552\n",
      "acousticness -> 82.35294117647058\n",
      "92.66829525853959\n",
      "\n",
      "\n",
      "danceability -> 98.66310160427807\n",
      "energy -> 96.61572052401748\n",
      "key -> 100.0\n",
      "loudness -> 99.0710731729584\n",
      "mode -> 100.0\n",
      "speechiness -> 80.27444253859349\n",
      "acousticness -> 16.764705882352942\n",
      "84.48414910317148\n",
      "\n",
      "\n",
      "danceability -> 95.32085561497325\n",
      "energy -> 92.7947598253275\n",
      "key -> 100.0\n",
      "loudness -> 95.18418770256082\n",
      "mode -> 100.0\n",
      "speechiness -> 99.82847341337909\n",
      "acousticness -> 62.74509803921566\n",
      "92.26762494220806\n",
      "\n",
      "\n",
      "danceability -> 99.8663101604278\n",
      "energy -> 99.12663755458516\n",
      "key -> 83.33333333333333\n",
      "loudness -> 97.21550189437166\n",
      "mode -> 100.0\n",
      "speechiness -> 84.56260720411663\n",
      "acousticness -> 99.01960784313725\n",
      "94.73199971285312\n",
      "\n",
      "\n",
      "danceability -> 94.65240641711229\n",
      "energy -> 94.75982532751091\n",
      "key -> 100.0\n",
      "loudness -> 98.5096088008399\n",
      "mode -> 100.0\n",
      "speechiness -> 73.92795883361921\n",
      "acousticness -> 30.686274509803937\n",
      "84.64801055555519\n",
      "\n",
      "\n"
     ]
    }
   ],
   "source": [
    "for x in similarity_score:\n",
    "    sum  = 0\n",
    "    for y in x:\n",
    "        sum += x[y]\n",
    "        print(y,\"->\", x[y])\n",
    "    print(sum/7)\n",
    "    print(\"\\n\")"
   ]
  },
  {
   "cell_type": "markdown",
   "metadata": {},
   "source": [
    "### **CONCLUSION**"
   ]
  },
  {
   "cell_type": "markdown",
   "metadata": {},
   "source": [
    "We have successfully built two models using two very different algorithms. The Random Forest Algorithm is a supervised learning algorithm while the Nearest Neighbour algorithm is an unsupervised learning algorithm. \n",
    "\n",
    "In addition, we also gathered some insight on genre and popularity trends over the years."
   ]
  }
 ],
 "metadata": {
  "kernelspec": {
   "display_name": "base",
   "language": "python",
   "name": "python3"
  },
  "language_info": {
   "codemirror_mode": {
    "name": "ipython",
    "version": 3
   },
   "file_extension": ".py",
   "mimetype": "text/x-python",
   "name": "python",
   "nbconvert_exporter": "python",
   "pygments_lexer": "ipython3",
   "version": "3.11.7"
  }
 },
 "nbformat": 4,
 "nbformat_minor": 2
}
